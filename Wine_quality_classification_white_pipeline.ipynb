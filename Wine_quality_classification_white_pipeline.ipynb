{
 "cells": [
  {
   "cell_type": "markdown",
   "id": "e25c268c",
   "metadata": {},
   "source": [
    "# Project: Wine quality classification. A white wine dataset pipeline."
   ]
  },
  {
   "cell_type": "markdown",
   "id": "9c9a4d51",
   "metadata": {},
   "source": [
    "# About the datases:\n",
    "\n",
    "link to hte dataset at Kaggle:\n",
    "https://www.kaggle.com/danielpanizzo/wine-quality"
   ]
  },
  {
   "cell_type": "markdown",
   "id": "3185459a",
   "metadata": {},
   "source": [
    "Citation Request:\n",
    "This dataset is public available for research. The details are described in [Cortez et al., 2009].\n",
    "Please include this citation if you plan to use this database:\n",
    "\n",
    "P. Cortez, A. Cerdeira, F. Almeida, T. Matos and J. Reis.\n",
    "Modeling wine preferences by data mining from physicochemical properties.\n",
    "In Decision Support Systems, Elsevier, 47(4):547-553. ISSN: 0167-9236.\n",
    "\n",
    "Available at: [@Elsevier] http://dx.doi.org/10.1016/j.dss.2009.05.016\n",
    "[Pre-press (pdf)] http://www3.dsi.uminho.pt/pcortez/winequality09.pdf\n",
    "[bib] http://www3.dsi.uminho.pt/pcortez/dss09.bib\n",
    "\n",
    "Title: Wine Quality\n",
    "\n",
    "Sources\n",
    "Created by: Paulo Cortez (Univ. Minho), Antonio Cerdeira, Fernando Almeida, Telmo Matos and Jose Reis (CVRVV) @ 2009\n",
    "\n",
    "Past Usage:\n",
    "\n",
    "P. Cortez, A. Cerdeira, F. Almeida, T. Matos and J. Reis.\n",
    "Modeling wine preferences by data mining from physicochemical properties.\n",
    "In Decision Support Systems, Elsevier, 47(4):547-553. ISSN: 0167-9236.\n",
    "\n",
    "In the above reference, two datasets were created, using red and white wine samples.\n",
    "The inputs include objective tests (e.g. PH values) and the output is based on sensory data\n",
    "(median of at least 3 evaluations made by wine experts). Each expert graded the wine quality\n",
    "between 0 (very bad) and 10 (very excellent). Several data mining methods were applied to model\n",
    "these datasets under a regression approach. The support vector machine model achieved the\n",
    "best results. Several metrics were computed: MAD, confusion matrix for a fixed error tolerance (T),\n",
    "etc. Also, we plot the relative importances of the input variables (as measured by a sensitivity\n",
    "analysis procedure).\n",
    "\n",
    "Relevant Information:\n",
    "\n",
    "The two datasets are related to red and white variants of the Portuguese \"Vinho Verde\" wine.\n",
    "For more details, consult: http://www.vinhoverde.pt/en/ or the reference [Cortez et al., 2009].\n",
    "Due to privacy and logistic issues, only physicochemical (inputs) and sensory (the output) variables\n",
    "are available (e.g. there is no data about grape types, wine brand, wine selling price, etc.).\n",
    "\n",
    "These datasets can be viewed as classification or regression tasks.\n",
    "The classes are ordered and not balanced (e.g. there are munch more normal wines than\n",
    "excellent or poor ones). Outlier detection algorithms could be used to detect the few excellent\n",
    "or poor wines. Also, we are not sure if all input variables are relevant. So\n",
    "it could be interesting to test feature selection methods.\n",
    "\n",
    "Number of Instances: red wine - 1599; white wine - 4898.\n",
    "\n",
    "Number of Attributes: 11 + output attribute\n",
    "\n",
    "Note: several of the attributes may be correlated, thus it makes sense to apply some sort of\n",
    "feature selection.\n",
    "\n",
    "Attribute information:\n",
    "\n",
    "For more information, read [Cortez et al., 2009].\n",
    "\n",
    "Input variables (based on physicochemical tests):\n",
    "1 - fixed acidity (tartaric acid - g / dm^3)\n",
    "2 - volatile acidity (acetic acid - g / dm^3)\n",
    "3 - citric acid (g / dm^3)\n",
    "4 - residual sugar (g / dm^3)\n",
    "5 - chlorides (sodium chloride - g / dm^3\n",
    "6 - free sulfur dioxide (mg / dm^3)\n",
    "7 - total sulfur dioxide (mg / dm^3)\n",
    "8 - density (g / cm^3)\n",
    "9 - pH\n",
    "10 - sulphates (potassium sulphate - g / dm3)\n",
    "11 - alcohol (% by volume)\n",
    "Output variable (based on sensory data):\n",
    "12 - quality (score between 0 and 10)\n",
    "\n",
    "Missing Attribute Values: None\n",
    "\n",
    "Description of attributes:\n",
    "\n",
    "1 - fixed acidity: most acids involved with wine or fixed or nonvolatile (do not evaporate readily)\n",
    "\n",
    "2 - volatile acidity: the amount of acetic acid in wine, which at too high of levels can lead to an unpleasant, vinegar taste\n",
    "\n",
    "3 - citric acid: found in small quantities, citric acid can add 'freshness' and flavor to wines\n",
    "\n",
    "4 - residual sugar: the amount of sugar remaining after fermentation stops, it's rare to find wines with less than 1 gram/liter and wines with greater than 45 grams/liter are considered sweet\n",
    "\n",
    "5 - chlorides: the amount of salt in the wine\n",
    "\n",
    "6 - free sulfur dioxide: the free form of SO2 exists in equilibrium between molecular SO2 (as a dissolved gas) and bisulfite ion; it prevents microbial growth and the oxidation of wine\n",
    "\n",
    "7 - total sulfur dioxide: amount of free and bound forms of S02; in low concentrations, SO2 is mostly undetectable in wine, but at free SO2 concentrations over 50 ppm, SO2 becomes evident in the nose and taste of wine\n",
    "\n",
    "8 - density: the density of water is close to that of water depending on the percent alcohol and sugar content\n",
    "\n",
    "9 - pH: describes how acidic or basic a wine is on a scale from 0 (very acidic) to 14 (very basic); most wines are between 3-4 on the pH scale\n",
    "\n",
    "10 - sulphates: a wine additive which can contribute to sulfur dioxide gas (S02) levels, wich acts as an antimicrobial and antioxidant\n",
    "\n",
    "11 - alcohol: the percent alcohol content of the wine\n",
    "\n",
    "Output variable (based on sensory data):\n",
    "12 - quality (score between 0 and 10)"
   ]
  },
  {
   "cell_type": "markdown",
   "id": "6c36345c",
   "metadata": {},
   "source": [
    "# White wines: STEP 1: Learning the dataset and feature engineering"
   ]
  },
  {
   "cell_type": "code",
   "execution_count": 1,
   "id": "7301cb00",
   "metadata": {},
   "outputs": [],
   "source": [
    "# importing libraries\n",
    "from scipy import stats # for statistical calculations\n",
    "import numpy as np\n",
    "import pandas as pd\n",
    "from pandas import read_csv # for dataframes\n",
    "from pandas import DataFrame # for dataframes\n",
    "from numpy import ravel # for matrices\n",
    "import matplotlib.pyplot as plt #for plotting data\n",
    "import seaborn as sns # for plotting data\n",
    "from sklearn.model_selection import train_test_split # for train/test splits\n",
    "from sklearn.model_selection import cross_val_score # for cross validation\n",
    "from sklearn.ensemble import RandomForestClassifier # The random forest classifier\n",
    "from sklearn.feature_selection import VarianceThreshold # feature selector\n",
    "from sklearn.pipeline import Pipeline # for setting up pipeline\n",
    "from sklearn.metrics import confusion_matrix, accuracy_score # for confusion matrix\n",
    "# Various pre-processing steps\n",
    "from sklearn.preprocessing import Normalizer, StandardScaler, MinMaxScaler, PowerTransformer, MaxAbsScaler, LabelEncoder\n",
    "from sklearn.model_selection import GridSearchCV # For optimization"
   ]
  },
  {
   "cell_type": "code",
   "execution_count": 2,
   "id": "d893ff2e",
   "metadata": {},
   "outputs": [],
   "source": [
    "# importing the dataset\n",
    "df = pd.read_csv(\"wineQualityWhites.csv\", index_col=0)"
   ]
  },
  {
   "cell_type": "markdown",
   "id": "ea8b4333",
   "metadata": {},
   "source": [
    "Learning the dataset and making feature engineering"
   ]
  },
  {
   "cell_type": "code",
   "execution_count": 3,
   "id": "46b04468",
   "metadata": {},
   "outputs": [
    {
     "data": {
      "text/html": [
       "<div>\n",
       "<style scoped>\n",
       "    .dataframe tbody tr th:only-of-type {\n",
       "        vertical-align: middle;\n",
       "    }\n",
       "\n",
       "    .dataframe tbody tr th {\n",
       "        vertical-align: top;\n",
       "    }\n",
       "\n",
       "    .dataframe thead th {\n",
       "        text-align: right;\n",
       "    }\n",
       "</style>\n",
       "<table border=\"1\" class=\"dataframe\">\n",
       "  <thead>\n",
       "    <tr style=\"text-align: right;\">\n",
       "      <th></th>\n",
       "      <th>fixed.acidity</th>\n",
       "      <th>volatile.acidity</th>\n",
       "      <th>citric.acid</th>\n",
       "      <th>residual.sugar</th>\n",
       "      <th>chlorides</th>\n",
       "      <th>free.sulfur.dioxide</th>\n",
       "      <th>total.sulfur.dioxide</th>\n",
       "      <th>density</th>\n",
       "      <th>pH</th>\n",
       "      <th>sulphates</th>\n",
       "      <th>alcohol</th>\n",
       "      <th>quality</th>\n",
       "    </tr>\n",
       "  </thead>\n",
       "  <tbody>\n",
       "    <tr>\n",
       "      <th>1</th>\n",
       "      <td>7.0</td>\n",
       "      <td>0.27</td>\n",
       "      <td>0.36</td>\n",
       "      <td>20.7</td>\n",
       "      <td>0.045</td>\n",
       "      <td>45.0</td>\n",
       "      <td>170.0</td>\n",
       "      <td>1.0010</td>\n",
       "      <td>3.00</td>\n",
       "      <td>0.45</td>\n",
       "      <td>8.8</td>\n",
       "      <td>6</td>\n",
       "    </tr>\n",
       "    <tr>\n",
       "      <th>2</th>\n",
       "      <td>6.3</td>\n",
       "      <td>0.30</td>\n",
       "      <td>0.34</td>\n",
       "      <td>1.6</td>\n",
       "      <td>0.049</td>\n",
       "      <td>14.0</td>\n",
       "      <td>132.0</td>\n",
       "      <td>0.9940</td>\n",
       "      <td>3.30</td>\n",
       "      <td>0.49</td>\n",
       "      <td>9.5</td>\n",
       "      <td>6</td>\n",
       "    </tr>\n",
       "    <tr>\n",
       "      <th>3</th>\n",
       "      <td>8.1</td>\n",
       "      <td>0.28</td>\n",
       "      <td>0.40</td>\n",
       "      <td>6.9</td>\n",
       "      <td>0.050</td>\n",
       "      <td>30.0</td>\n",
       "      <td>97.0</td>\n",
       "      <td>0.9951</td>\n",
       "      <td>3.26</td>\n",
       "      <td>0.44</td>\n",
       "      <td>10.1</td>\n",
       "      <td>6</td>\n",
       "    </tr>\n",
       "    <tr>\n",
       "      <th>4</th>\n",
       "      <td>7.2</td>\n",
       "      <td>0.23</td>\n",
       "      <td>0.32</td>\n",
       "      <td>8.5</td>\n",
       "      <td>0.058</td>\n",
       "      <td>47.0</td>\n",
       "      <td>186.0</td>\n",
       "      <td>0.9956</td>\n",
       "      <td>3.19</td>\n",
       "      <td>0.40</td>\n",
       "      <td>9.9</td>\n",
       "      <td>6</td>\n",
       "    </tr>\n",
       "    <tr>\n",
       "      <th>5</th>\n",
       "      <td>7.2</td>\n",
       "      <td>0.23</td>\n",
       "      <td>0.32</td>\n",
       "      <td>8.5</td>\n",
       "      <td>0.058</td>\n",
       "      <td>47.0</td>\n",
       "      <td>186.0</td>\n",
       "      <td>0.9956</td>\n",
       "      <td>3.19</td>\n",
       "      <td>0.40</td>\n",
       "      <td>9.9</td>\n",
       "      <td>6</td>\n",
       "    </tr>\n",
       "  </tbody>\n",
       "</table>\n",
       "</div>"
      ],
      "text/plain": [
       "   fixed.acidity  volatile.acidity  citric.acid  residual.sugar  chlorides  \\\n",
       "1            7.0              0.27         0.36            20.7      0.045   \n",
       "2            6.3              0.30         0.34             1.6      0.049   \n",
       "3            8.1              0.28         0.40             6.9      0.050   \n",
       "4            7.2              0.23         0.32             8.5      0.058   \n",
       "5            7.2              0.23         0.32             8.5      0.058   \n",
       "\n",
       "   free.sulfur.dioxide  total.sulfur.dioxide  density    pH  sulphates  \\\n",
       "1                 45.0                 170.0   1.0010  3.00       0.45   \n",
       "2                 14.0                 132.0   0.9940  3.30       0.49   \n",
       "3                 30.0                  97.0   0.9951  3.26       0.44   \n",
       "4                 47.0                 186.0   0.9956  3.19       0.40   \n",
       "5                 47.0                 186.0   0.9956  3.19       0.40   \n",
       "\n",
       "   alcohol  quality  \n",
       "1      8.8        6  \n",
       "2      9.5        6  \n",
       "3     10.1        6  \n",
       "4      9.9        6  \n",
       "5      9.9        6  "
      ]
     },
     "execution_count": 3,
     "metadata": {},
     "output_type": "execute_result"
    }
   ],
   "source": [
    "# showing first five rows of the dateset\n",
    "df.head()"
   ]
  },
  {
   "cell_type": "code",
   "execution_count": 4,
   "id": "9570e756",
   "metadata": {},
   "outputs": [
    {
     "data": {
      "text/plain": [
       "['fixed.acidity',\n",
       " 'volatile.acidity',\n",
       " 'citric.acid',\n",
       " 'residual.sugar',\n",
       " 'chlorides',\n",
       " 'free.sulfur.dioxide',\n",
       " 'total.sulfur.dioxide',\n",
       " 'density',\n",
       " 'pH',\n",
       " 'sulphates',\n",
       " 'alcohol',\n",
       " 'quality']"
      ]
     },
     "execution_count": 4,
     "metadata": {},
     "output_type": "execute_result"
    }
   ],
   "source": [
    "# showing the column names\n",
    "list(df.columns)"
   ]
  },
  {
   "cell_type": "code",
   "execution_count": 5,
   "id": "27bad914",
   "metadata": {},
   "outputs": [
    {
     "name": "stdout",
     "output_type": "stream",
     "text": [
      "<class 'pandas.core.frame.DataFrame'>\n",
      "Int64Index: 4898 entries, 1 to 4898\n",
      "Data columns (total 12 columns):\n",
      " #   Column                Non-Null Count  Dtype  \n",
      "---  ------                --------------  -----  \n",
      " 0   fixed.acidity         4898 non-null   float64\n",
      " 1   volatile.acidity      4898 non-null   float64\n",
      " 2   citric.acid           4898 non-null   float64\n",
      " 3   residual.sugar        4898 non-null   float64\n",
      " 4   chlorides             4898 non-null   float64\n",
      " 5   free.sulfur.dioxide   4898 non-null   float64\n",
      " 6   total.sulfur.dioxide  4898 non-null   float64\n",
      " 7   density               4898 non-null   float64\n",
      " 8   pH                    4898 non-null   float64\n",
      " 9   sulphates             4898 non-null   float64\n",
      " 10  alcohol               4898 non-null   float64\n",
      " 11  quality               4898 non-null   int64  \n",
      "dtypes: float64(11), int64(1)\n",
      "memory usage: 497.5 KB\n"
     ]
    }
   ],
   "source": [
    "# showing statistical information about the dataset\n",
    "df.info()"
   ]
  },
  {
   "cell_type": "code",
   "execution_count": 6,
   "id": "4b6963cc",
   "metadata": {},
   "outputs": [
    {
     "data": {
      "text/html": [
       "<div>\n",
       "<style scoped>\n",
       "    .dataframe tbody tr th:only-of-type {\n",
       "        vertical-align: middle;\n",
       "    }\n",
       "\n",
       "    .dataframe tbody tr th {\n",
       "        vertical-align: top;\n",
       "    }\n",
       "\n",
       "    .dataframe thead th {\n",
       "        text-align: right;\n",
       "    }\n",
       "</style>\n",
       "<table border=\"1\" class=\"dataframe\">\n",
       "  <thead>\n",
       "    <tr style=\"text-align: right;\">\n",
       "      <th></th>\n",
       "      <th>fixed.acidity</th>\n",
       "      <th>volatile.acidity</th>\n",
       "      <th>citric.acid</th>\n",
       "      <th>residual.sugar</th>\n",
       "      <th>chlorides</th>\n",
       "      <th>free.sulfur.dioxide</th>\n",
       "      <th>total.sulfur.dioxide</th>\n",
       "      <th>density</th>\n",
       "      <th>pH</th>\n",
       "      <th>sulphates</th>\n",
       "      <th>alcohol</th>\n",
       "      <th>quality</th>\n",
       "    </tr>\n",
       "  </thead>\n",
       "  <tbody>\n",
       "    <tr>\n",
       "      <th>count</th>\n",
       "      <td>4898.000000</td>\n",
       "      <td>4898.000000</td>\n",
       "      <td>4898.000000</td>\n",
       "      <td>4898.000000</td>\n",
       "      <td>4898.000000</td>\n",
       "      <td>4898.000000</td>\n",
       "      <td>4898.000000</td>\n",
       "      <td>4898.000000</td>\n",
       "      <td>4898.000000</td>\n",
       "      <td>4898.000000</td>\n",
       "      <td>4898.000000</td>\n",
       "      <td>4898.000000</td>\n",
       "    </tr>\n",
       "    <tr>\n",
       "      <th>mean</th>\n",
       "      <td>6.854788</td>\n",
       "      <td>0.278241</td>\n",
       "      <td>0.334192</td>\n",
       "      <td>6.391415</td>\n",
       "      <td>0.045772</td>\n",
       "      <td>35.308085</td>\n",
       "      <td>138.360657</td>\n",
       "      <td>0.994027</td>\n",
       "      <td>3.188267</td>\n",
       "      <td>0.489847</td>\n",
       "      <td>10.514267</td>\n",
       "      <td>5.877909</td>\n",
       "    </tr>\n",
       "    <tr>\n",
       "      <th>std</th>\n",
       "      <td>0.843868</td>\n",
       "      <td>0.100795</td>\n",
       "      <td>0.121020</td>\n",
       "      <td>5.072058</td>\n",
       "      <td>0.021848</td>\n",
       "      <td>17.007137</td>\n",
       "      <td>42.498065</td>\n",
       "      <td>0.002991</td>\n",
       "      <td>0.151001</td>\n",
       "      <td>0.114126</td>\n",
       "      <td>1.230621</td>\n",
       "      <td>0.885639</td>\n",
       "    </tr>\n",
       "    <tr>\n",
       "      <th>min</th>\n",
       "      <td>3.800000</td>\n",
       "      <td>0.080000</td>\n",
       "      <td>0.000000</td>\n",
       "      <td>0.600000</td>\n",
       "      <td>0.009000</td>\n",
       "      <td>2.000000</td>\n",
       "      <td>9.000000</td>\n",
       "      <td>0.987110</td>\n",
       "      <td>2.720000</td>\n",
       "      <td>0.220000</td>\n",
       "      <td>8.000000</td>\n",
       "      <td>3.000000</td>\n",
       "    </tr>\n",
       "    <tr>\n",
       "      <th>25%</th>\n",
       "      <td>6.300000</td>\n",
       "      <td>0.210000</td>\n",
       "      <td>0.270000</td>\n",
       "      <td>1.700000</td>\n",
       "      <td>0.036000</td>\n",
       "      <td>23.000000</td>\n",
       "      <td>108.000000</td>\n",
       "      <td>0.991723</td>\n",
       "      <td>3.090000</td>\n",
       "      <td>0.410000</td>\n",
       "      <td>9.500000</td>\n",
       "      <td>5.000000</td>\n",
       "    </tr>\n",
       "    <tr>\n",
       "      <th>50%</th>\n",
       "      <td>6.800000</td>\n",
       "      <td>0.260000</td>\n",
       "      <td>0.320000</td>\n",
       "      <td>5.200000</td>\n",
       "      <td>0.043000</td>\n",
       "      <td>34.000000</td>\n",
       "      <td>134.000000</td>\n",
       "      <td>0.993740</td>\n",
       "      <td>3.180000</td>\n",
       "      <td>0.470000</td>\n",
       "      <td>10.400000</td>\n",
       "      <td>6.000000</td>\n",
       "    </tr>\n",
       "    <tr>\n",
       "      <th>75%</th>\n",
       "      <td>7.300000</td>\n",
       "      <td>0.320000</td>\n",
       "      <td>0.390000</td>\n",
       "      <td>9.900000</td>\n",
       "      <td>0.050000</td>\n",
       "      <td>46.000000</td>\n",
       "      <td>167.000000</td>\n",
       "      <td>0.996100</td>\n",
       "      <td>3.280000</td>\n",
       "      <td>0.550000</td>\n",
       "      <td>11.400000</td>\n",
       "      <td>6.000000</td>\n",
       "    </tr>\n",
       "    <tr>\n",
       "      <th>max</th>\n",
       "      <td>14.200000</td>\n",
       "      <td>1.100000</td>\n",
       "      <td>1.660000</td>\n",
       "      <td>65.800000</td>\n",
       "      <td>0.346000</td>\n",
       "      <td>289.000000</td>\n",
       "      <td>440.000000</td>\n",
       "      <td>1.038980</td>\n",
       "      <td>3.820000</td>\n",
       "      <td>1.080000</td>\n",
       "      <td>14.200000</td>\n",
       "      <td>9.000000</td>\n",
       "    </tr>\n",
       "  </tbody>\n",
       "</table>\n",
       "</div>"
      ],
      "text/plain": [
       "       fixed.acidity  volatile.acidity  citric.acid  residual.sugar  \\\n",
       "count    4898.000000       4898.000000  4898.000000     4898.000000   \n",
       "mean        6.854788          0.278241     0.334192        6.391415   \n",
       "std         0.843868          0.100795     0.121020        5.072058   \n",
       "min         3.800000          0.080000     0.000000        0.600000   \n",
       "25%         6.300000          0.210000     0.270000        1.700000   \n",
       "50%         6.800000          0.260000     0.320000        5.200000   \n",
       "75%         7.300000          0.320000     0.390000        9.900000   \n",
       "max        14.200000          1.100000     1.660000       65.800000   \n",
       "\n",
       "         chlorides  free.sulfur.dioxide  total.sulfur.dioxide      density  \\\n",
       "count  4898.000000          4898.000000           4898.000000  4898.000000   \n",
       "mean      0.045772            35.308085            138.360657     0.994027   \n",
       "std       0.021848            17.007137             42.498065     0.002991   \n",
       "min       0.009000             2.000000              9.000000     0.987110   \n",
       "25%       0.036000            23.000000            108.000000     0.991723   \n",
       "50%       0.043000            34.000000            134.000000     0.993740   \n",
       "75%       0.050000            46.000000            167.000000     0.996100   \n",
       "max       0.346000           289.000000            440.000000     1.038980   \n",
       "\n",
       "                pH    sulphates      alcohol      quality  \n",
       "count  4898.000000  4898.000000  4898.000000  4898.000000  \n",
       "mean      3.188267     0.489847    10.514267     5.877909  \n",
       "std       0.151001     0.114126     1.230621     0.885639  \n",
       "min       2.720000     0.220000     8.000000     3.000000  \n",
       "25%       3.090000     0.410000     9.500000     5.000000  \n",
       "50%       3.180000     0.470000    10.400000     6.000000  \n",
       "75%       3.280000     0.550000    11.400000     6.000000  \n",
       "max       3.820000     1.080000    14.200000     9.000000  "
      ]
     },
     "execution_count": 6,
     "metadata": {},
     "output_type": "execute_result"
    }
   ],
   "source": [
    "# showing statistical data of the dataset\n",
    "df.describe()"
   ]
  },
  {
   "cell_type": "markdown",
   "id": "66091798",
   "metadata": {},
   "source": [
    "Visualize data columns\n",
    "\n",
    "Explore distribution, skewness, outliers and other statistical properties"
   ]
  },
  {
   "cell_type": "code",
   "execution_count": 7,
   "id": "279106dc",
   "metadata": {},
   "outputs": [
    {
     "data": {
      "image/png": "[encoded data removed]",
      "text/plain": [
       "<Figure size 432x288 with 1 Axes>"
      ]
     },
     "metadata": {
      "needs_background": "light"
     },
     "output_type": "display_data"
    }
   ],
   "source": [
    "# plotting fixed.acidity variable\n",
    "ax = sns.boxplot(x=df[\"fixed.acidity\"]);"
   ]
  },
  {
   "cell_type": "code",
   "execution_count": 8,
   "id": "7e7d0e38",
   "metadata": {},
   "outputs": [
    {
     "name": "stdout",
     "output_type": "stream",
     "text": [
      "skewnessis 0.65, kurtosis is 2.17\n"
     ]
    }
   ],
   "source": [
    "# printing skewness and kurtosis\n",
    "skewness = df[\"fixed.acidity\"].skew()\n",
    "kurtosis = df[\"fixed.acidity\"].kurtosis()\n",
    "print(\"skewnessis {:.2f}, kurtosis is {:.2f}\".format(skewness, kurtosis))"
   ]
  },
  {
   "cell_type": "code",
   "execution_count": 9,
   "id": "06db817d",
   "metadata": {},
   "outputs": [
    {
     "data": {
      "image/png": "[encoded data removed]",
      "text/plain": [
       "<Figure size 432x288 with 1 Axes>"
      ]
     },
     "metadata": {
      "needs_background": "light"
     },
     "output_type": "display_data"
    }
   ],
   "source": [
    "# plotting volatile.acidity variable\n",
    "ax = sns.boxplot(x=df[\"volatile.acidity\"]);"
   ]
  },
  {
   "cell_type": "code",
   "execution_count": 10,
   "id": "be15a7e6",
   "metadata": {},
   "outputs": [
    {
     "name": "stdout",
     "output_type": "stream",
     "text": [
      "skewnessis 1.58, kurtosis is 5.09\n"
     ]
    }
   ],
   "source": [
    "# printing skewness and kurtosis\n",
    "skewness = df[\"volatile.acidity\"].skew()\n",
    "kurtosis = df[\"volatile.acidity\"].kurtosis()\n",
    "print(\"skewnessis {:.2f}, kurtosis is {:.2f}\".format(skewness, kurtosis))"
   ]
  },
  {
   "cell_type": "code",
   "execution_count": 11,
   "id": "c09ae132",
   "metadata": {
    "scrolled": true
   },
   "outputs": [
    {
     "data": {
      "text/plain": [
       "0.13938315393329148"
      ]
     },
     "execution_count": 11,
     "metadata": {},
     "output_type": "execute_result"
    }
   ],
   "source": [
    "# volatile.acidity distribution is highly skewed\n",
    "# trying log transformation to improve the skewness\n",
    "log_volatile_acidity_skewness = np.log(df[\"volatile.acidity\"]).skew()\n",
    "log_volatile_acidity_skewness"
   ]
  },
  {
   "cell_type": "code",
   "execution_count": 12,
   "id": "c7ec59b6",
   "metadata": {},
   "outputs": [],
   "source": [
    "# creating log(volatile.acidity) column\n",
    "df[\"log(volatile.acidity)\"] = np.log(df['volatile.acidity'])"
   ]
  },
  {
   "cell_type": "code",
   "execution_count": 13,
   "id": "64a66337",
   "metadata": {},
   "outputs": [],
   "source": [
    "# removing volatile.acidity column\n",
    "df.drop([\"volatile.acidity\"], axis=1, inplace=True)"
   ]
  },
  {
   "cell_type": "code",
   "execution_count": 14,
   "id": "93350101",
   "metadata": {},
   "outputs": [
    {
     "data": {
      "image/png": "[encoded data removed]",
      "text/plain": [
       "<Figure size 432x288 with 1 Axes>"
      ]
     },
     "metadata": {
      "needs_background": "light"
     },
     "output_type": "display_data"
    }
   ],
   "source": [
    "# plotting citric.acid variable\n",
    "ax = sns.boxplot(x=df[\"citric.acid\"]);"
   ]
  },
  {
   "cell_type": "code",
   "execution_count": 15,
   "id": "3fa1bea4",
   "metadata": {},
   "outputs": [
    {
     "name": "stdout",
     "output_type": "stream",
     "text": [
      "skewnessis 1.28, kurtosis is 6.17\n"
     ]
    }
   ],
   "source": [
    "# printing skewness and kurtosis\n",
    "skewness = df[\"citric.acid\"].skew()\n",
    "kurtosis = df[\"citric.acid\"].kurtosis()\n",
    "print(\"skewnessis {:.2f}, kurtosis is {:.2f}\".format(skewness, kurtosis))"
   ]
  },
  {
   "cell_type": "code",
   "execution_count": 16,
   "id": "ae4e6c6c",
   "metadata": {},
   "outputs": [
    {
     "data": {
      "image/png": "[encoded data removed]",
      "text/plain": [
       "<Figure size 432x288 with 1 Axes>"
      ]
     },
     "metadata": {
      "needs_background": "light"
     },
     "output_type": "display_data"
    }
   ],
   "source": [
    "# plotting residual.sugar variable\n",
    "ax = sns.boxplot(x=df[\"residual.sugar\"]);"
   ]
  },
  {
   "cell_type": "code",
   "execution_count": 17,
   "id": "5f11de4e",
   "metadata": {},
   "outputs": [
    {
     "name": "stdout",
     "output_type": "stream",
     "text": [
      "skewnessis 1.08, kurtosis is 3.47\n"
     ]
    }
   ],
   "source": [
    "# printing skewness and kurtosis\n",
    "skewness = df[\"residual.sugar\"].skew()\n",
    "kurtosis = df[\"residual.sugar\"].kurtosis()\n",
    "print(\"skewnessis {:.2f}, kurtosis is {:.2f}\".format(skewness, kurtosis))"
   ]
  },
  {
   "cell_type": "code",
   "execution_count": 18,
   "id": "79125106",
   "metadata": {},
   "outputs": [
    {
     "data": {
      "image/png": "[encoded data removed]",
      "text/plain": [
       "<Figure size 432x288 with 1 Axes>"
      ]
     },
     "metadata": {
      "needs_background": "light"
     },
     "output_type": "display_data"
    }
   ],
   "source": [
    "# plotting chlorides variable\n",
    "ax = sns.boxplot(x=df[\"chlorides\"]);"
   ]
  },
  {
   "cell_type": "code",
   "execution_count": 19,
   "id": "5e5795fb",
   "metadata": {},
   "outputs": [
    {
     "name": "stdout",
     "output_type": "stream",
     "text": [
      "skewnessis 5.02, kurtosis is 37.56\n"
     ]
    }
   ],
   "source": [
    "# printing skewness and kurtosis\n",
    "skewness = df[\"chlorides\"].skew()\n",
    "kurtosis = df[\"chlorides\"].kurtosis()\n",
    "print(\"skewnessis {:.2f}, kurtosis is {:.2f}\".format(skewness, kurtosis))"
   ]
  },
  {
   "cell_type": "code",
   "execution_count": 20,
   "id": "106c1af7",
   "metadata": {},
   "outputs": [
    {
     "data": {
      "text/plain": [
       "1.1341336461195806"
      ]
     },
     "execution_count": 20,
     "metadata": {},
     "output_type": "execute_result"
    }
   ],
   "source": [
    "# chlorides distribution is highly skewed\n",
    "# trying log transformation to improve the skewness\n",
    "log_chlorides_skewness = np.log(df[\"chlorides\"]).skew()\n",
    "log_chlorides_skewness"
   ]
  },
  {
   "cell_type": "code",
   "execution_count": 21,
   "id": "1a2842e5",
   "metadata": {},
   "outputs": [],
   "source": [
    "# creating log(chlorides) column\n",
    "df[\"log(chlorides)\"] = np.log(df['chlorides'])"
   ]
  },
  {
   "cell_type": "code",
   "execution_count": 22,
   "id": "777621ec",
   "metadata": {},
   "outputs": [],
   "source": [
    "# removing chlorides column\n",
    "df.drop([\"chlorides\"], axis=1, inplace=True)"
   ]
  },
  {
   "cell_type": "code",
   "execution_count": 23,
   "id": "cb17990c",
   "metadata": {},
   "outputs": [
    {
     "data": {
      "image/png": "[encoded data removed]",
      "text/plain": [
       "<Figure size 432x288 with 1 Axes>"
      ]
     },
     "metadata": {
      "needs_background": "light"
     },
     "output_type": "display_data"
    }
   ],
   "source": [
    "# plotting free.sulfur.dioxide variable\n",
    "ax = sns.boxplot(x=df[\"free.sulfur.dioxide\"]);"
   ]
  },
  {
   "cell_type": "code",
   "execution_count": 24,
   "id": "d4f2dd1d",
   "metadata": {},
   "outputs": [
    {
     "name": "stdout",
     "output_type": "stream",
     "text": [
      "skewnessis 1.41, kurtosis is 11.47\n"
     ]
    }
   ],
   "source": [
    "# printing skewness and kurtosis\n",
    "skewness = df[\"free.sulfur.dioxide\"].skew()\n",
    "kurtosis = df[\"free.sulfur.dioxide\"].kurtosis()\n",
    "print(\"skewnessis {:.2f}, kurtosis is {:.2f}\".format(skewness, kurtosis))"
   ]
  },
  {
   "cell_type": "code",
   "execution_count": 25,
   "id": "6216a381",
   "metadata": {},
   "outputs": [
    {
     "data": {
      "image/png": "[encoded data removed]",
      "text/plain": [
       "<Figure size 432x288 with 1 Axes>"
      ]
     },
     "metadata": {
      "needs_background": "light"
     },
     "output_type": "display_data"
    }
   ],
   "source": [
    "# plotting total.sulfur.dioxide variable\n",
    "ax = sns.boxplot(x=df[\"total.sulfur.dioxide\"]);"
   ]
  },
  {
   "cell_type": "code",
   "execution_count": 26,
   "id": "da64720c",
   "metadata": {},
   "outputs": [
    {
     "name": "stdout",
     "output_type": "stream",
     "text": [
      "skewnessis 0.39, kurtosis is 0.57\n"
     ]
    }
   ],
   "source": [
    "# printing skewness and kurtosis\n",
    "skewness = df[\"total.sulfur.dioxide\"].skew()\n",
    "kurtosis = df[\"total.sulfur.dioxide\"].kurtosis()\n",
    "print(\"skewnessis {:.2f}, kurtosis is {:.2f}\".format(skewness, kurtosis))"
   ]
  },
  {
   "cell_type": "code",
   "execution_count": 27,
   "id": "98f08c20",
   "metadata": {},
   "outputs": [
    {
     "data": {
      "image/png": "[encoded data removed]",
      "text/plain": [
       "<Figure size 432x288 with 1 Axes>"
      ]
     },
     "metadata": {
      "needs_background": "light"
     },
     "output_type": "display_data"
    }
   ],
   "source": [
    "# plotting density variable\n",
    "ax = sns.boxplot(x=df[\"density\"]);"
   ]
  },
  {
   "cell_type": "code",
   "execution_count": 28,
   "id": "0063055e",
   "metadata": {},
   "outputs": [
    {
     "name": "stdout",
     "output_type": "stream",
     "text": [
      "skewnessis 0.98, kurtosis is 9.79\n"
     ]
    }
   ],
   "source": [
    "# printing skewness and kurtosis\n",
    "skewness = df[\"density\"].skew()\n",
    "kurtosis = df[\"density\"].kurtosis()\n",
    "print(\"skewnessis {:.2f}, kurtosis is {:.2f}\".format(skewness, kurtosis))"
   ]
  },
  {
   "cell_type": "code",
   "execution_count": 29,
   "id": "435676a7",
   "metadata": {},
   "outputs": [
    {
     "data": {
      "image/png": "[encoded data removed]",
      "text/plain": [
       "<Figure size 432x288 with 1 Axes>"
      ]
     },
     "metadata": {
      "needs_background": "light"
     },
     "output_type": "display_data"
    }
   ],
   "source": [
    "# plotting pH variable\n",
    "ax = sns.boxplot(x=df[\"pH\"]);"
   ]
  },
  {
   "cell_type": "code",
   "execution_count": 30,
   "id": "e4e01894",
   "metadata": {},
   "outputs": [
    {
     "name": "stdout",
     "output_type": "stream",
     "text": [
      "skewnessis 0.46, kurtosis is 0.53\n"
     ]
    }
   ],
   "source": [
    "# printing skewness and kurtosis\n",
    "skewness = df[\"pH\"].skew()\n",
    "kurtosis = df[\"pH\"].kurtosis()\n",
    "print(\"skewnessis {:.2f}, kurtosis is {:.2f}\".format(skewness, kurtosis))"
   ]
  },
  {
   "cell_type": "code",
   "execution_count": 31,
   "id": "4ec769c8",
   "metadata": {},
   "outputs": [
    {
     "data": {
      "image/png": "[encoded data removed]",
      "text/plain": [
       "<Figure size 432x288 with 1 Axes>"
      ]
     },
     "metadata": {
      "needs_background": "light"
     },
     "output_type": "display_data"
    }
   ],
   "source": [
    "# plotting sulphates variable\n",
    "ax = sns.boxplot(x=df[\"sulphates\"]);"
   ]
  },
  {
   "cell_type": "code",
   "execution_count": 32,
   "id": "13e2d9ab",
   "metadata": {},
   "outputs": [
    {
     "name": "stdout",
     "output_type": "stream",
     "text": [
      "skewnessis 0.98, kurtosis is 1.59\n"
     ]
    }
   ],
   "source": [
    "# printing skewness and kurtosis\n",
    "skewness = df[\"sulphates\"].skew()\n",
    "kurtosis = df[\"sulphates\"].kurtosis()\n",
    "print(\"skewnessis {:.2f}, kurtosis is {:.2f}\".format(skewness, kurtosis))"
   ]
  },
  {
   "cell_type": "code",
   "execution_count": 33,
   "id": "dc2c7714",
   "metadata": {},
   "outputs": [
    {
     "data": {
      "image/png": "[encoded data removed]",
      "text/plain": [
       "<Figure size 432x288 with 1 Axes>"
      ]
     },
     "metadata": {
      "needs_background": "light"
     },
     "output_type": "display_data"
    }
   ],
   "source": [
    "# plotting alcohol variable\n",
    "ax = sns.boxplot(x=df[\"alcohol\"]);"
   ]
  },
  {
   "cell_type": "code",
   "execution_count": 34,
   "id": "af23033d",
   "metadata": {},
   "outputs": [
    {
     "name": "stdout",
     "output_type": "stream",
     "text": [
      "skewnessis 0.49, kurtosis is -0.70\n"
     ]
    }
   ],
   "source": [
    "# printing skewness and kurtosis\n",
    "skewness = df[\"alcohol\"].skew()\n",
    "kurtosis = df[\"alcohol\"].kurtosis()\n",
    "print(\"skewnessis {:.2f}, kurtosis is {:.2f}\".format(skewness, kurtosis))"
   ]
  },
  {
   "cell_type": "code",
   "execution_count": 35,
   "id": "9de3f554",
   "metadata": {
    "scrolled": true
   },
   "outputs": [
    {
     "name": "stderr",
     "output_type": "stream",
     "text": [
      "C:\\Users\\artem\\anaconda3\\lib\\site-packages\\seaborn\\_decorators.py:36: FutureWarning: Pass the following variable as a keyword arg: x. From version 0.12, the only valid positional argument will be `data`, and passing other arguments without an explicit keyword will result in an error or misinterpretation.\n",
      "  warnings.warn(\n"
     ]
    },
    {
     "data": {
      "image/png": "[encoded data removed]",
      "text/plain": [
       "<Figure size 540x360 with 1 Axes>"
      ]
     },
     "metadata": {
      "needs_background": "light"
     },
     "output_type": "display_data"
    }
   ],
   "source": [
    "# plotting quality variable\n",
    "ax = sns.catplot(\"quality\", data=df, kind='count', aspect=1.5);"
   ]
  },
  {
   "cell_type": "code",
   "execution_count": 36,
   "id": "cc71d28e",
   "metadata": {},
   "outputs": [
    {
     "data": {
      "text/plain": [
       "6    2198\n",
       "5    1457\n",
       "7     880\n",
       "8     175\n",
       "4     163\n",
       "3      20\n",
       "9       5\n",
       "Name: quality, dtype: int64"
      ]
     },
     "execution_count": 36,
     "metadata": {},
     "output_type": "execute_result"
    }
   ],
   "source": [
    "# counting all the values of categorical dependent variable quality\n",
    "df[\"quality\"].value_counts(dropna=False)"
   ]
  },
  {
   "cell_type": "code",
   "execution_count": 37,
   "id": "4b83804d",
   "metadata": {},
   "outputs": [],
   "source": [
    "# reordering the dataframe columns in original order\n",
    "df = df[['fixed.acidity',\n",
    " 'log(volatile.acidity)',\n",
    " 'citric.acid',\n",
    " 'residual.sugar',\n",
    " 'log(chlorides)',\n",
    " 'free.sulfur.dioxide',\n",
    " 'total.sulfur.dioxide',\n",
    " 'density',\n",
    " 'pH',\n",
    " 'sulphates',\n",
    " 'alcohol',\n",
    " 'quality']]"
   ]
  },
  {
   "cell_type": "markdown",
   "id": "57603db4",
   "metadata": {},
   "source": [
    "Removing outliers"
   ]
  },
  {
   "cell_type": "code",
   "execution_count": 38,
   "id": "b8da1e3c",
   "metadata": {},
   "outputs": [],
   "source": [
    "z_scores = stats.zscore(df)"
   ]
  },
  {
   "cell_type": "code",
   "execution_count": 39,
   "id": "ad39665e",
   "metadata": {},
   "outputs": [],
   "source": [
    "abs_z_scores = np.abs(z_scores)\n",
    "filtered_entries = (abs_z_scores < 3).all(axis=1)\n",
    "df = df[filtered_entries]"
   ]
  },
  {
   "cell_type": "code",
   "execution_count": 40,
   "id": "d4b9877e",
   "metadata": {},
   "outputs": [
    {
     "name": "stdout",
     "output_type": "stream",
     "text": [
      "<class 'pandas.core.frame.DataFrame'>\n",
      "Int64Index: 4529 entries, 1 to 4898\n",
      "Data columns (total 12 columns):\n",
      " #   Column                 Non-Null Count  Dtype  \n",
      "---  ------                 --------------  -----  \n",
      " 0   fixed.acidity          4529 non-null   float64\n",
      " 1   log(volatile.acidity)  4529 non-null   float64\n",
      " 2   citric.acid            4529 non-null   float64\n",
      " 3   residual.sugar         4529 non-null   float64\n",
      " 4   log(chlorides)         4529 non-null   float64\n",
      " 5   free.sulfur.dioxide    4529 non-null   float64\n",
      " 6   total.sulfur.dioxide   4529 non-null   float64\n",
      " 7   density                4529 non-null   float64\n",
      " 8   pH                     4529 non-null   float64\n",
      " 9   sulphates              4529 non-null   float64\n",
      " 10  alcohol                4529 non-null   float64\n",
      " 11  quality                4529 non-null   int64  \n",
      "dtypes: float64(11), int64(1)\n",
      "memory usage: 460.0 KB\n"
     ]
    }
   ],
   "source": [
    "df.info()"
   ]
  },
  {
   "cell_type": "code",
   "execution_count": 41,
   "id": "906e45fc",
   "metadata": {},
   "outputs": [],
   "source": [
    "# calculating a correlation matrix\n",
    "corr_matrix = df.corr()"
   ]
  },
  {
   "cell_type": "code",
   "execution_count": 42,
   "id": "3853d117",
   "metadata": {},
   "outputs": [
    {
     "data": {
      "image/png": "[encoded data removed]",
      "text/plain": [
       "<Figure size 1440x1440 with 2 Axes>"
      ]
     },
     "metadata": {
      "needs_background": "light"
     },
     "output_type": "display_data"
    }
   ],
   "source": [
    "# drawing a heatmap\n",
    "plt.figure(figsize = (20,20))\n",
    "ax = sns.heatmap(corr_matrix, annot=True, square=True, cmap='Blues')\n",
    "plt.show()"
   ]
  },
  {
   "cell_type": "markdown",
   "id": "7374d7cc",
   "metadata": {},
   "source": [
    "Discussion: density is correlated with residual.sugar and alcohol."
   ]
  },
  {
   "cell_type": "markdown",
   "id": "a9d878ea",
   "metadata": {},
   "source": [
    "Discussion: variables citric.acid and free.sulfur.dioxide have futile influence on the quality"
   ]
  },
  {
   "cell_type": "markdown",
   "id": "e7f23fb1",
   "metadata": {},
   "source": [
    "# White wines: STEP 2: Random Forest Classification w/o pipeline optimization"
   ]
  },
  {
   "cell_type": "code",
   "execution_count": 43,
   "id": "2d16f73a",
   "metadata": {},
   "outputs": [],
   "source": [
    "# defining variables\n",
    "X = df.iloc[:, :-1].values\n",
    "y = df.iloc[:, -1].values"
   ]
  },
  {
   "cell_type": "code",
   "execution_count": 44,
   "id": "60f29a83",
   "metadata": {},
   "outputs": [],
   "source": [
    "# splitting the dataset to a train and a test sets\n",
    "X_train, X_test, y_train, y_test = train_test_split(X, y, test_size = 0.2, random_state = 42)"
   ]
  },
  {
   "cell_type": "code",
   "execution_count": 45,
   "id": "b551e4f5",
   "metadata": {},
   "outputs": [
    {
     "data": {
      "text/plain": [
       "RandomForestClassifier(criterion='entropy', random_state=42)"
      ]
     },
     "execution_count": 45,
     "metadata": {},
     "output_type": "execute_result"
    }
   ],
   "source": [
    "# training the  model on the training set\n",
    "classifier = RandomForestClassifier(n_estimators = 100, criterion = 'entropy', random_state = 42)\n",
    "classifier.fit(X_train, y_train)"
   ]
  },
  {
   "cell_type": "code",
   "execution_count": 46,
   "id": "b156ac8d",
   "metadata": {},
   "outputs": [],
   "source": [
    "# predicting the test set results\n",
    "y_pred = classifier.predict(X_test)"
   ]
  },
  {
   "cell_type": "code",
   "execution_count": 47,
   "id": "acc8def7",
   "metadata": {},
   "outputs": [
    {
     "name": "stdout",
     "output_type": "stream",
     "text": [
      "[[  5  16   6   0   0]\n",
      " [  2 189  81   0   0]\n",
      " [  0  47 323  29   0]\n",
      " [  0   7  71  95   3]\n",
      " [  0   1  12   9  10]]\n",
      "Accuracy score: 0.69 %\n"
     ]
    }
   ],
   "source": [
    "# making the confusion matrix\n",
    "cm = confusion_matrix(y_test, y_pred)\n",
    "print(cm)\n",
    "print(\"Accuracy score: {:.2f} %\".format(accuracy_score(y_test, y_pred)))"
   ]
  },
  {
   "cell_type": "code",
   "execution_count": 48,
   "id": "639fb6ee",
   "metadata": {},
   "outputs": [
    {
     "name": "stdout",
     "output_type": "stream",
     "text": [
      "Accuracy score: 0.69 %\n"
     ]
    },
    {
     "data": {
      "image/png": "[encoded data removed]",
      "text/plain": [
       "<Figure size 360x288 with 1 Axes>"
      ]
     },
     "metadata": {
      "needs_background": "light"
     },
     "output_type": "display_data"
    }
   ],
   "source": [
    "# making the confusion matrix\n",
    "cm = confusion_matrix(y_test, y_pred)\n",
    "\n",
    "index=[\"4\", \"5\", \"6\", \"7\", \"8\"]\n",
    "columns=[\"4\", \"5\", \"6\", \"7\", \"8\"]\n",
    "\n",
    "df_cm = pd.DataFrame(data=cm, index=index, columns=columns)\n",
    "plt.figure(figsize=(5,4))\n",
    "\n",
    "ax = sns.heatmap(df_cm, annot=True, fmt=\".0f\", cmap='Blues', cbar=False)\n",
    "\n",
    "plt.xlabel('Predicted')\n",
    "plt.ylabel('Actual')\n",
    "\n",
    "\n",
    "print(\"Accuracy score: {:.2f} %\".format(accuracy_score(y_test, y_pred)))"
   ]
  },
  {
   "cell_type": "code",
   "execution_count": 49,
   "id": "8888b141",
   "metadata": {},
   "outputs": [
    {
     "name": "stdout",
     "output_type": "stream",
     "text": [
      "Accuracy: 67.26 %\n",
      "Standard Deviation: 2.84 %\n"
     ]
    }
   ],
   "source": [
    "# applying k-fold cross validation\n",
    "accuracies = cross_val_score(estimator = classifier, X = X_train, y = y_train, cv = 10)\n",
    "print(\"Accuracy: {:.2f} %\".format(accuracies.mean()*100))\n",
    "print(\"Standard Deviation: {:.2f} %\".format(accuracies.std()*100))"
   ]
  },
  {
   "cell_type": "code",
   "execution_count": 50,
   "id": "9d140ae4",
   "metadata": {},
   "outputs": [
    {
     "name": "stdout",
     "output_type": "stream",
     "text": [
      "Training set score: 1.00 %\n",
      "Test set score: 0.69 %\n"
     ]
    }
   ],
   "source": [
    "# comparing accuracy of training set and test set\n",
    "print(\"Training set score: {:.2f} %\".format(classifier.score(X_train,y_train)))\n",
    "print(\"Test set score: {:.2f} %\".format(classifier.score(X_test,y_test)))"
   ]
  },
  {
   "cell_type": "markdown",
   "id": "1f10bb80",
   "metadata": {},
   "source": [
    "Discussion: the overfitting seems to be caused by subjectiveness of the quality criteria."
   ]
  },
  {
   "cell_type": "markdown",
   "id": "a6ec13fb",
   "metadata": {},
   "source": [
    "# White wines: STEP 3: Random Forest Classification with pipeline optimization"
   ]
  },
  {
   "cell_type": "markdown",
   "id": "752414c9",
   "metadata": {},
   "source": [
    "Setting up a pipeline"
   ]
  },
  {
   "cell_type": "code",
   "execution_count": 51,
   "id": "b311a731",
   "metadata": {},
   "outputs": [],
   "source": [
    "pipe = Pipeline([\n",
    "('scaler', StandardScaler()),\n",
    "('selector', VarianceThreshold()),\n",
    "('classifier', RandomForestClassifier())\n",
    "])"
   ]
  },
  {
   "cell_type": "code",
   "execution_count": 52,
   "id": "8f087e0e",
   "metadata": {},
   "outputs": [
    {
     "name": "stdout",
     "output_type": "stream",
     "text": [
      "Training set score: 1.00 %\n",
      "Test set score: 0.69 %\n"
     ]
    }
   ],
   "source": [
    "pipe.fit(X_train, y_train)\n",
    "\n",
    "print(\"Training set score: {:.2f} %\".format(pipe.score(X_train,y_train)))\n",
    "print(\"Test set score: {:.2f} %\".format(pipe.score(X_test,y_test)))"
   ]
  },
  {
   "cell_type": "markdown",
   "id": "4dc24196",
   "metadata": {},
   "source": [
    "Optimizing and tuning the pipeline"
   ]
  },
  {
   "cell_type": "code",
   "execution_count": 53,
   "id": "b091df3c",
   "metadata": {},
   "outputs": [],
   "source": [
    "parameters = {'scaler': [StandardScaler(), MinMaxScaler(), Normalizer(), MaxAbsScaler()],\n",
    "              'selector__threshold': [0, 0.001, 0.01],\n",
    "#              'classifier__bootstrap': [True, False],\n",
    "#              'classifier__max_depth': [5, 8, 15, 25, 30, None],\n",
    "#              'classifier__max_features': ['auto', 'sqrt'],\n",
    "#              'classifier__min_samples_leaf': [1, 2, 5, 10],\n",
    "#              'classifier__min_samples_split': [2, 5, 10, 15, 100],\n",
    "              'classifier__n_estimators': [100, 300, 500, 800, 1200]\n",
    "             }"
   ]
  },
  {
   "cell_type": "code",
   "execution_count": 54,
   "id": "8b8a80f3",
   "metadata": {},
   "outputs": [
    {
     "name": "stderr",
     "output_type": "stream",
     "text": [
      "C:\\Users\\artem\\anaconda3\\lib\\site-packages\\sklearn\\model_selection\\_validation.py:610: FitFailedWarning: Estimator fit failed. The score on this train-test partition for these parameters will be set to nan. Details: \n",
      "Traceback (most recent call last):\n",
      "  File \"C:\\Users\\artem\\anaconda3\\lib\\site-packages\\sklearn\\model_selection\\_validation.py\", line 593, in _fit_and_score\n",
      "    estimator.fit(X_train, y_train, **fit_params)\n",
      "  File \"C:\\Users\\artem\\anaconda3\\lib\\site-packages\\sklearn\\pipeline.py\", line 341, in fit\n",
      "    Xt = self._fit(X, y, **fit_params_steps)\n",
      "  File \"C:\\Users\\artem\\anaconda3\\lib\\site-packages\\sklearn\\pipeline.py\", line 303, in _fit\n",
      "    X, fitted_transformer = fit_transform_one_cached(\n",
      "  File \"C:\\Users\\artem\\anaconda3\\lib\\site-packages\\joblib\\memory.py\", line 352, in __call__\n",
      "    return self.func(*args, **kwargs)\n",
      "  File \"C:\\Users\\artem\\anaconda3\\lib\\site-packages\\sklearn\\pipeline.py\", line 754, in _fit_transform_one\n",
      "    res = transformer.fit_transform(X, y, **fit_params)\n",
      "  File \"C:\\Users\\artem\\anaconda3\\lib\\site-packages\\sklearn\\base.py\", line 702, in fit_transform\n",
      "    return self.fit(X, y, **fit_params).transform(X)\n",
      "  File \"C:\\Users\\artem\\anaconda3\\lib\\site-packages\\sklearn\\feature_selection\\_variance_threshold.py\", line 93, in fit\n",
      "    raise ValueError(msg.format(self.threshold))\n",
      "ValueError: No feature in X meets the variance threshold 0.01000\n",
      "\n",
      "  warnings.warn(\"Estimator fit failed. The score on this train-test\"\n",
      "C:\\Users\\artem\\anaconda3\\lib\\site-packages\\sklearn\\model_selection\\_validation.py:610: FitFailedWarning: Estimator fit failed. The score on this train-test partition for these parameters will be set to nan. Details: \n",
      "Traceback (most recent call last):\n",
      "  File \"C:\\Users\\artem\\anaconda3\\lib\\site-packages\\sklearn\\model_selection\\_validation.py\", line 593, in _fit_and_score\n",
      "    estimator.fit(X_train, y_train, **fit_params)\n",
      "  File \"C:\\Users\\artem\\anaconda3\\lib\\site-packages\\sklearn\\pipeline.py\", line 341, in fit\n",
      "    Xt = self._fit(X, y, **fit_params_steps)\n",
      "  File \"C:\\Users\\artem\\anaconda3\\lib\\site-packages\\sklearn\\pipeline.py\", line 303, in _fit\n",
      "    X, fitted_transformer = fit_transform_one_cached(\n",
      "  File \"C:\\Users\\artem\\anaconda3\\lib\\site-packages\\joblib\\memory.py\", line 352, in __call__\n",
      "    return self.func(*args, **kwargs)\n",
      "  File \"C:\\Users\\artem\\anaconda3\\lib\\site-packages\\sklearn\\pipeline.py\", line 754, in _fit_transform_one\n",
      "    res = transformer.fit_transform(X, y, **fit_params)\n",
      "  File \"C:\\Users\\artem\\anaconda3\\lib\\site-packages\\sklearn\\base.py\", line 702, in fit_transform\n",
      "    return self.fit(X, y, **fit_params).transform(X)\n",
      "  File \"C:\\Users\\artem\\anaconda3\\lib\\site-packages\\sklearn\\feature_selection\\_variance_threshold.py\", line 93, in fit\n",
      "    raise ValueError(msg.format(self.threshold))\n",
      "ValueError: No feature in X meets the variance threshold 0.01000\n",
      "\n",
      "  warnings.warn(\"Estimator fit failed. The score on this train-test\"\n",
      "C:\\Users\\artem\\anaconda3\\lib\\site-packages\\sklearn\\model_selection\\_validation.py:610: FitFailedWarning: Estimator fit failed. The score on this train-test partition for these parameters will be set to nan. Details: \n",
      "Traceback (most recent call last):\n",
      "  File \"C:\\Users\\artem\\anaconda3\\lib\\site-packages\\sklearn\\model_selection\\_validation.py\", line 593, in _fit_and_score\n",
      "    estimator.fit(X_train, y_train, **fit_params)\n",
      "  File \"C:\\Users\\artem\\anaconda3\\lib\\site-packages\\sklearn\\pipeline.py\", line 341, in fit\n",
      "    Xt = self._fit(X, y, **fit_params_steps)\n",
      "  File \"C:\\Users\\artem\\anaconda3\\lib\\site-packages\\sklearn\\pipeline.py\", line 303, in _fit\n",
      "    X, fitted_transformer = fit_transform_one_cached(\n",
      "  File \"C:\\Users\\artem\\anaconda3\\lib\\site-packages\\joblib\\memory.py\", line 352, in __call__\n",
      "    return self.func(*args, **kwargs)\n",
      "  File \"C:\\Users\\artem\\anaconda3\\lib\\site-packages\\sklearn\\pipeline.py\", line 754, in _fit_transform_one\n",
      "    res = transformer.fit_transform(X, y, **fit_params)\n",
      "  File \"C:\\Users\\artem\\anaconda3\\lib\\site-packages\\sklearn\\base.py\", line 702, in fit_transform\n",
      "    return self.fit(X, y, **fit_params).transform(X)\n",
      "  File \"C:\\Users\\artem\\anaconda3\\lib\\site-packages\\sklearn\\feature_selection\\_variance_threshold.py\", line 93, in fit\n",
      "    raise ValueError(msg.format(self.threshold))\n",
      "ValueError: No feature in X meets the variance threshold 0.01000\n",
      "\n",
      "  warnings.warn(\"Estimator fit failed. The score on this train-test\"\n",
      "C:\\Users\\artem\\anaconda3\\lib\\site-packages\\sklearn\\model_selection\\_validation.py:610: FitFailedWarning: Estimator fit failed. The score on this train-test partition for these parameters will be set to nan. Details: \n",
      "Traceback (most recent call last):\n",
      "  File \"C:\\Users\\artem\\anaconda3\\lib\\site-packages\\sklearn\\model_selection\\_validation.py\", line 593, in _fit_and_score\n",
      "    estimator.fit(X_train, y_train, **fit_params)\n",
      "  File \"C:\\Users\\artem\\anaconda3\\lib\\site-packages\\sklearn\\pipeline.py\", line 341, in fit\n",
      "    Xt = self._fit(X, y, **fit_params_steps)\n",
      "  File \"C:\\Users\\artem\\anaconda3\\lib\\site-packages\\sklearn\\pipeline.py\", line 303, in _fit\n",
      "    X, fitted_transformer = fit_transform_one_cached(\n",
      "  File \"C:\\Users\\artem\\anaconda3\\lib\\site-packages\\joblib\\memory.py\", line 352, in __call__\n",
      "    return self.func(*args, **kwargs)\n",
      "  File \"C:\\Users\\artem\\anaconda3\\lib\\site-packages\\sklearn\\pipeline.py\", line 754, in _fit_transform_one\n",
      "    res = transformer.fit_transform(X, y, **fit_params)\n",
      "  File \"C:\\Users\\artem\\anaconda3\\lib\\site-packages\\sklearn\\base.py\", line 702, in fit_transform\n",
      "    return self.fit(X, y, **fit_params).transform(X)\n",
      "  File \"C:\\Users\\artem\\anaconda3\\lib\\site-packages\\sklearn\\feature_selection\\_variance_threshold.py\", line 93, in fit\n",
      "    raise ValueError(msg.format(self.threshold))\n",
      "ValueError: No feature in X meets the variance threshold 0.01000\n",
      "\n",
      "  warnings.warn(\"Estimator fit failed. The score on this train-test\"\n",
      "C:\\Users\\artem\\anaconda3\\lib\\site-packages\\sklearn\\model_selection\\_validation.py:610: FitFailedWarning: Estimator fit failed. The score on this train-test partition for these parameters will be set to nan. Details: \n",
      "Traceback (most recent call last):\n",
      "  File \"C:\\Users\\artem\\anaconda3\\lib\\site-packages\\sklearn\\model_selection\\_validation.py\", line 593, in _fit_and_score\n",
      "    estimator.fit(X_train, y_train, **fit_params)\n",
      "  File \"C:\\Users\\artem\\anaconda3\\lib\\site-packages\\sklearn\\pipeline.py\", line 341, in fit\n",
      "    Xt = self._fit(X, y, **fit_params_steps)\n",
      "  File \"C:\\Users\\artem\\anaconda3\\lib\\site-packages\\sklearn\\pipeline.py\", line 303, in _fit\n",
      "    X, fitted_transformer = fit_transform_one_cached(\n",
      "  File \"C:\\Users\\artem\\anaconda3\\lib\\site-packages\\joblib\\memory.py\", line 352, in __call__\n",
      "    return self.func(*args, **kwargs)\n",
      "  File \"C:\\Users\\artem\\anaconda3\\lib\\site-packages\\sklearn\\pipeline.py\", line 754, in _fit_transform_one\n",
      "    res = transformer.fit_transform(X, y, **fit_params)\n",
      "  File \"C:\\Users\\artem\\anaconda3\\lib\\site-packages\\sklearn\\base.py\", line 702, in fit_transform\n",
      "    return self.fit(X, y, **fit_params).transform(X)\n",
      "  File \"C:\\Users\\artem\\anaconda3\\lib\\site-packages\\sklearn\\feature_selection\\_variance_threshold.py\", line 93, in fit\n",
      "    raise ValueError(msg.format(self.threshold))\n",
      "ValueError: No feature in X meets the variance threshold 0.01000\n",
      "\n",
      "  warnings.warn(\"Estimator fit failed. The score on this train-test\"\n",
      "C:\\Users\\artem\\anaconda3\\lib\\site-packages\\sklearn\\model_selection\\_validation.py:610: FitFailedWarning: Estimator fit failed. The score on this train-test partition for these parameters will be set to nan. Details: \n",
      "Traceback (most recent call last):\n",
      "  File \"C:\\Users\\artem\\anaconda3\\lib\\site-packages\\sklearn\\model_selection\\_validation.py\", line 593, in _fit_and_score\n",
      "    estimator.fit(X_train, y_train, **fit_params)\n",
      "  File \"C:\\Users\\artem\\anaconda3\\lib\\site-packages\\sklearn\\pipeline.py\", line 341, in fit\n",
      "    Xt = self._fit(X, y, **fit_params_steps)\n",
      "  File \"C:\\Users\\artem\\anaconda3\\lib\\site-packages\\sklearn\\pipeline.py\", line 303, in _fit\n",
      "    X, fitted_transformer = fit_transform_one_cached(\n",
      "  File \"C:\\Users\\artem\\anaconda3\\lib\\site-packages\\joblib\\memory.py\", line 352, in __call__\n",
      "    return self.func(*args, **kwargs)\n",
      "  File \"C:\\Users\\artem\\anaconda3\\lib\\site-packages\\sklearn\\pipeline.py\", line 754, in _fit_transform_one\n",
      "    res = transformer.fit_transform(X, y, **fit_params)\n",
      "  File \"C:\\Users\\artem\\anaconda3\\lib\\site-packages\\sklearn\\base.py\", line 702, in fit_transform\n",
      "    return self.fit(X, y, **fit_params).transform(X)\n",
      "  File \"C:\\Users\\artem\\anaconda3\\lib\\site-packages\\sklearn\\feature_selection\\_variance_threshold.py\", line 93, in fit\n",
      "    raise ValueError(msg.format(self.threshold))\n",
      "ValueError: No feature in X meets the variance threshold 0.01000\n",
      "\n",
      "  warnings.warn(\"Estimator fit failed. The score on this train-test\"\n"
     ]
    },
    {
     "name": "stderr",
     "output_type": "stream",
     "text": [
      "C:\\Users\\artem\\anaconda3\\lib\\site-packages\\sklearn\\model_selection\\_validation.py:610: FitFailedWarning: Estimator fit failed. The score on this train-test partition for these parameters will be set to nan. Details: \n",
      "Traceback (most recent call last):\n",
      "  File \"C:\\Users\\artem\\anaconda3\\lib\\site-packages\\sklearn\\model_selection\\_validation.py\", line 593, in _fit_and_score\n",
      "    estimator.fit(X_train, y_train, **fit_params)\n",
      "  File \"C:\\Users\\artem\\anaconda3\\lib\\site-packages\\sklearn\\pipeline.py\", line 341, in fit\n",
      "    Xt = self._fit(X, y, **fit_params_steps)\n",
      "  File \"C:\\Users\\artem\\anaconda3\\lib\\site-packages\\sklearn\\pipeline.py\", line 303, in _fit\n",
      "    X, fitted_transformer = fit_transform_one_cached(\n",
      "  File \"C:\\Users\\artem\\anaconda3\\lib\\site-packages\\joblib\\memory.py\", line 352, in __call__\n",
      "    return self.func(*args, **kwargs)\n",
      "  File \"C:\\Users\\artem\\anaconda3\\lib\\site-packages\\sklearn\\pipeline.py\", line 754, in _fit_transform_one\n",
      "    res = transformer.fit_transform(X, y, **fit_params)\n",
      "  File \"C:\\Users\\artem\\anaconda3\\lib\\site-packages\\sklearn\\base.py\", line 702, in fit_transform\n",
      "    return self.fit(X, y, **fit_params).transform(X)\n",
      "  File \"C:\\Users\\artem\\anaconda3\\lib\\site-packages\\sklearn\\feature_selection\\_variance_threshold.py\", line 93, in fit\n",
      "    raise ValueError(msg.format(self.threshold))\n",
      "ValueError: No feature in X meets the variance threshold 0.01000\n",
      "\n",
      "  warnings.warn(\"Estimator fit failed. The score on this train-test\"\n",
      "C:\\Users\\artem\\anaconda3\\lib\\site-packages\\sklearn\\model_selection\\_validation.py:610: FitFailedWarning: Estimator fit failed. The score on this train-test partition for these parameters will be set to nan. Details: \n",
      "Traceback (most recent call last):\n",
      "  File \"C:\\Users\\artem\\anaconda3\\lib\\site-packages\\sklearn\\model_selection\\_validation.py\", line 593, in _fit_and_score\n",
      "    estimator.fit(X_train, y_train, **fit_params)\n",
      "  File \"C:\\Users\\artem\\anaconda3\\lib\\site-packages\\sklearn\\pipeline.py\", line 341, in fit\n",
      "    Xt = self._fit(X, y, **fit_params_steps)\n",
      "  File \"C:\\Users\\artem\\anaconda3\\lib\\site-packages\\sklearn\\pipeline.py\", line 303, in _fit\n",
      "    X, fitted_transformer = fit_transform_one_cached(\n",
      "  File \"C:\\Users\\artem\\anaconda3\\lib\\site-packages\\joblib\\memory.py\", line 352, in __call__\n",
      "    return self.func(*args, **kwargs)\n",
      "  File \"C:\\Users\\artem\\anaconda3\\lib\\site-packages\\sklearn\\pipeline.py\", line 754, in _fit_transform_one\n",
      "    res = transformer.fit_transform(X, y, **fit_params)\n",
      "  File \"C:\\Users\\artem\\anaconda3\\lib\\site-packages\\sklearn\\base.py\", line 702, in fit_transform\n",
      "    return self.fit(X, y, **fit_params).transform(X)\n",
      "  File \"C:\\Users\\artem\\anaconda3\\lib\\site-packages\\sklearn\\feature_selection\\_variance_threshold.py\", line 93, in fit\n",
      "    raise ValueError(msg.format(self.threshold))\n",
      "ValueError: No feature in X meets the variance threshold 0.01000\n",
      "\n",
      "  warnings.warn(\"Estimator fit failed. The score on this train-test\"\n",
      "C:\\Users\\artem\\anaconda3\\lib\\site-packages\\sklearn\\model_selection\\_validation.py:610: FitFailedWarning: Estimator fit failed. The score on this train-test partition for these parameters will be set to nan. Details: \n",
      "Traceback (most recent call last):\n",
      "  File \"C:\\Users\\artem\\anaconda3\\lib\\site-packages\\sklearn\\model_selection\\_validation.py\", line 593, in _fit_and_score\n",
      "    estimator.fit(X_train, y_train, **fit_params)\n",
      "  File \"C:\\Users\\artem\\anaconda3\\lib\\site-packages\\sklearn\\pipeline.py\", line 341, in fit\n",
      "    Xt = self._fit(X, y, **fit_params_steps)\n",
      "  File \"C:\\Users\\artem\\anaconda3\\lib\\site-packages\\sklearn\\pipeline.py\", line 303, in _fit\n",
      "    X, fitted_transformer = fit_transform_one_cached(\n",
      "  File \"C:\\Users\\artem\\anaconda3\\lib\\site-packages\\joblib\\memory.py\", line 352, in __call__\n",
      "    return self.func(*args, **kwargs)\n",
      "  File \"C:\\Users\\artem\\anaconda3\\lib\\site-packages\\sklearn\\pipeline.py\", line 754, in _fit_transform_one\n",
      "    res = transformer.fit_transform(X, y, **fit_params)\n",
      "  File \"C:\\Users\\artem\\anaconda3\\lib\\site-packages\\sklearn\\base.py\", line 702, in fit_transform\n",
      "    return self.fit(X, y, **fit_params).transform(X)\n",
      "  File \"C:\\Users\\artem\\anaconda3\\lib\\site-packages\\sklearn\\feature_selection\\_variance_threshold.py\", line 93, in fit\n",
      "    raise ValueError(msg.format(self.threshold))\n",
      "ValueError: No feature in X meets the variance threshold 0.01000\n",
      "\n",
      "  warnings.warn(\"Estimator fit failed. The score on this train-test\"\n",
      "C:\\Users\\artem\\anaconda3\\lib\\site-packages\\sklearn\\model_selection\\_validation.py:610: FitFailedWarning: Estimator fit failed. The score on this train-test partition for these parameters will be set to nan. Details: \n",
      "Traceback (most recent call last):\n",
      "  File \"C:\\Users\\artem\\anaconda3\\lib\\site-packages\\sklearn\\model_selection\\_validation.py\", line 593, in _fit_and_score\n",
      "    estimator.fit(X_train, y_train, **fit_params)\n",
      "  File \"C:\\Users\\artem\\anaconda3\\lib\\site-packages\\sklearn\\pipeline.py\", line 341, in fit\n",
      "    Xt = self._fit(X, y, **fit_params_steps)\n",
      "  File \"C:\\Users\\artem\\anaconda3\\lib\\site-packages\\sklearn\\pipeline.py\", line 303, in _fit\n",
      "    X, fitted_transformer = fit_transform_one_cached(\n",
      "  File \"C:\\Users\\artem\\anaconda3\\lib\\site-packages\\joblib\\memory.py\", line 352, in __call__\n",
      "    return self.func(*args, **kwargs)\n",
      "  File \"C:\\Users\\artem\\anaconda3\\lib\\site-packages\\sklearn\\pipeline.py\", line 754, in _fit_transform_one\n",
      "    res = transformer.fit_transform(X, y, **fit_params)\n",
      "  File \"C:\\Users\\artem\\anaconda3\\lib\\site-packages\\sklearn\\base.py\", line 702, in fit_transform\n",
      "    return self.fit(X, y, **fit_params).transform(X)\n",
      "  File \"C:\\Users\\artem\\anaconda3\\lib\\site-packages\\sklearn\\feature_selection\\_variance_threshold.py\", line 93, in fit\n",
      "    raise ValueError(msg.format(self.threshold))\n",
      "ValueError: No feature in X meets the variance threshold 0.01000\n",
      "\n",
      "  warnings.warn(\"Estimator fit failed. The score on this train-test\"\n",
      "C:\\Users\\artem\\anaconda3\\lib\\site-packages\\sklearn\\model_selection\\_search.py:918: UserWarning: One or more of the test scores are non-finite: [0.62682948 0.61854783 0.62544842 0.62406766 0.62544918 0.62600197\n",
      " 0.59536186 0.53684819        nan 0.62075564 0.63207398 0.59674277\n",
      " 0.63179774 0.62793323 0.62931292 0.63179789 0.62655324 0.63373068\n",
      " 0.59867449 0.54402517        nan 0.62517096 0.62793491 0.59094792\n",
      " 0.63096916 0.62655324 0.63317667 0.63014074 0.63124617 0.62848526\n",
      " 0.59757104 0.54236923        nan 0.62793339 0.6340054  0.59122325\n",
      " 0.6304179  0.63262449 0.62958917 0.63096962 0.63069338 0.63317819\n",
      " 0.600882   0.54043614        nan 0.62710435 0.63400448 0.58846402\n",
      " 0.62931353 0.63152134 0.6312448  0.6268275  0.62876151 0.63290119\n",
      " 0.6036426  0.539056          nan 0.63069277 0.63290164 0.59149857]\n",
      "  warnings.warn(\n"
     ]
    },
    {
     "name": "stdout",
     "output_type": "stream",
     "text": [
      "Training set score: 1.00 %\n",
      "Test set score: 0.70 %\n"
     ]
    }
   ],
   "source": [
    "grid = GridSearchCV(pipe, parameters, cv=2).fit(X_train, y_train)\n",
    "\n",
    "print(\"Training set score: {:.2f} %\".format(grid.score(X_train,y_train)))\n",
    "print(\"Test set score: {:.2f} %\".format(grid.score(X_test,y_test)))"
   ]
  },
  {
   "cell_type": "markdown",
   "id": "9c0d162a",
   "metadata": {},
   "source": [
    "Analyzing the results"
   ]
  },
  {
   "cell_type": "code",
   "execution_count": 55,
   "id": "fe810849",
   "metadata": {},
   "outputs": [
    {
     "name": "stdout",
     "output_type": "stream",
     "text": [
      "{'classifier__n_estimators': 500, 'scaler': MaxAbsScaler(), 'selector__threshold': 0.001}\n",
      "Pipeline(steps=[('scaler', MaxAbsScaler()),\n",
      "                ('selector', VarianceThreshold(threshold=0.001)),\n",
      "                ('classifier', RandomForestClassifier(n_estimators=500))])\n"
     ]
    }
   ],
   "source": [
    "# Access the best set of parameters\n",
    "best_params = grid.best_params_\n",
    "print(best_params)\n",
    "# Stores the optimum model in best_pipe\n",
    "best_pipe = grid.best_estimator_\n",
    "print(best_pipe)"
   ]
  },
  {
   "cell_type": "code",
   "execution_count": 56,
   "id": "090ea8da",
   "metadata": {},
   "outputs": [
    {
     "name": "stdout",
     "output_type": "stream",
     "text": [
      "Index(['mean_fit_time', 'std_fit_time', 'mean_score_time', 'std_score_time',\n",
      "       'param_classifier__n_estimators', 'param_scaler',\n",
      "       'param_selector__threshold', 'params', 'split0_test_score',\n",
      "       'split1_test_score', 'mean_test_score', 'std_test_score',\n",
      "       'rank_test_score'],\n",
      "      dtype='object')\n"
     ]
    }
   ],
   "source": [
    "result_df = DataFrame.from_dict(grid.cv_results_, orient='columns')\n",
    "print(result_df.columns)"
   ]
  },
  {
   "cell_type": "markdown",
   "id": "351c7a46",
   "metadata": {},
   "source": [
    "Conclusion: partial parametric optimization gave accuracy of 70%."
   ]
  },
  {
   "cell_type": "code",
   "execution_count": null,
   "id": "094b5dc7",
   "metadata": {},
   "outputs": [],
   "source": []
  }
 ],
 "metadata": {
  "celltoolbar": "Raw Cell Format",
  "kernelspec": {
   "display_name": "Python 3",
   "language": "python",
   "name": "python3"
  },
  "language_info": {
   "codemirror_mode": {
    "name": "ipython",
    "version": 3
   },
   "file_extension": ".py",
   "mimetype": "text/x-python",
   "name": "python",
   "nbconvert_exporter": "python",
   "pygments_lexer": "ipython3",
   "version": "3.8.8"
  }
 },
 "nbformat": 4,
 "nbformat_minor": 5
}
