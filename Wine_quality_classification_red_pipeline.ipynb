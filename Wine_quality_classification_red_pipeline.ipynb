{
 "cells": [
  {
   "cell_type": "markdown",
   "id": "e25c268c",
   "metadata": {},
   "source": [
    "# Project: Wine quality classification. A red wine dataset pipeline."
   ]
  },
  {
   "cell_type": "markdown",
   "id": "9c9a4d51",
   "metadata": {},
   "source": [
    "# About the datases:\n",
    "\n",
    "link to hte dataset at Kaggle:\n",
    "https://www.kaggle.com/danielpanizzo/wine-quality"
   ]
  },
  {
   "cell_type": "markdown",
   "id": "3185459a",
   "metadata": {},
   "source": [
    "Citation Request:\n",
    "This dataset is public available for research. The details are described in [Cortez et al., 2009].\n",
    "Please include this citation if you plan to use this database:\n",
    "\n",
    "P. Cortez, A. Cerdeira, F. Almeida, T. Matos and J. Reis.\n",
    "Modeling wine preferences by data mining from physicochemical properties.\n",
    "In Decision Support Systems, Elsevier, 47(4):547-553. ISSN: 0167-9236.\n",
    "\n",
    "Available at: [@Elsevier] http://dx.doi.org/10.1016/j.dss.2009.05.016\n",
    "[Pre-press (pdf)] http://www3.dsi.uminho.pt/pcortez/winequality09.pdf\n",
    "[bib] http://www3.dsi.uminho.pt/pcortez/dss09.bib\n",
    "\n",
    "Title: Wine Quality\n",
    "\n",
    "Sources\n",
    "Created by: Paulo Cortez (Univ. Minho), Antonio Cerdeira, Fernando Almeida, Telmo Matos and Jose Reis (CVRVV) @ 2009\n",
    "\n",
    "Past Usage:\n",
    "\n",
    "P. Cortez, A. Cerdeira, F. Almeida, T. Matos and J. Reis.\n",
    "Modeling wine preferences by data mining from physicochemical properties.\n",
    "In Decision Support Systems, Elsevier, 47(4):547-553. ISSN: 0167-9236.\n",
    "\n",
    "In the above reference, two datasets were created, using red and white wine samples.\n",
    "The inputs include objective tests (e.g. PH values) and the output is based on sensory data\n",
    "(median of at least 3 evaluations made by wine experts). Each expert graded the wine quality\n",
    "between 0 (very bad) and 10 (very excellent). Several data mining methods were applied to model\n",
    "these datasets under a regression approach. The support vector machine model achieved the\n",
    "best results. Several metrics were computed: MAD, confusion matrix for a fixed error tolerance (T),\n",
    "etc. Also, we plot the relative importances of the input variables (as measured by a sensitivity\n",
    "analysis procedure).\n",
    "\n",
    "Relevant Information:\n",
    "\n",
    "The two datasets are related to red and white variants of the Portuguese \"Vinho Verde\" wine.\n",
    "For more details, consult: http://www.vinhoverde.pt/en/ or the reference [Cortez et al., 2009].\n",
    "Due to privacy and logistic issues, only physicochemical (inputs) and sensory (the output) variables\n",
    "are available (e.g. there is no data about grape types, wine brand, wine selling price, etc.).\n",
    "\n",
    "These datasets can be viewed as classification or regression tasks.\n",
    "The classes are ordered and not balanced (e.g. there are munch more normal wines than\n",
    "excellent or poor ones). Outlier detection algorithms could be used to detect the few excellent\n",
    "or poor wines. Also, we are not sure if all input variables are relevant. So\n",
    "it could be interesting to test feature selection methods.\n",
    "\n",
    "Number of Instances: red wine - 1599; white wine - 4898.\n",
    "\n",
    "Number of Attributes: 11 + output attribute\n",
    "\n",
    "Note: several of the attributes may be correlated, thus it makes sense to apply some sort of\n",
    "feature selection.\n",
    "\n",
    "Attribute information:\n",
    "\n",
    "For more information, read [Cortez et al., 2009].\n",
    "\n",
    "Input variables (based on physicochemical tests):\n",
    "1 - fixed acidity (tartaric acid - g / dm^3)\n",
    "2 - volatile acidity (acetic acid - g / dm^3)\n",
    "3 - citric acid (g / dm^3)\n",
    "4 - residual sugar (g / dm^3)\n",
    "5 - chlorides (sodium chloride - g / dm^3\n",
    "6 - free sulfur dioxide (mg / dm^3)\n",
    "7 - total sulfur dioxide (mg / dm^3)\n",
    "8 - density (g / cm^3)\n",
    "9 - pH\n",
    "10 - sulphates (potassium sulphate - g / dm3)\n",
    "11 - alcohol (% by volume)\n",
    "Output variable (based on sensory data):\n",
    "12 - quality (score between 0 and 10)\n",
    "\n",
    "Missing Attribute Values: None\n",
    "\n",
    "Description of attributes:\n",
    "\n",
    "1 - fixed acidity: most acids involved with wine or fixed or nonvolatile (do not evaporate readily)\n",
    "\n",
    "2 - volatile acidity: the amount of acetic acid in wine, which at too high of levels can lead to an unpleasant, vinegar taste\n",
    "\n",
    "3 - citric acid: found in small quantities, citric acid can add 'freshness' and flavor to wines\n",
    "\n",
    "4 - residual sugar: the amount of sugar remaining after fermentation stops, it's rare to find wines with less than 1 gram/liter and wines with greater than 45 grams/liter are considered sweet\n",
    "\n",
    "5 - chlorides: the amount of salt in the wine\n",
    "\n",
    "6 - free sulfur dioxide: the free form of SO2 exists in equilibrium between molecular SO2 (as a dissolved gas) and bisulfite ion; it prevents microbial growth and the oxidation of wine\n",
    "\n",
    "7 - total sulfur dioxide: amount of free and bound forms of S02; in low concentrations, SO2 is mostly undetectable in wine, but at free SO2 concentrations over 50 ppm, SO2 becomes evident in the nose and taste of wine\n",
    "\n",
    "8 - density: the density of water is close to that of water depending on the percent alcohol and sugar content\n",
    "\n",
    "9 - pH: describes how acidic or basic a wine is on a scale from 0 (very acidic) to 14 (very basic); most wines are between 3-4 on the pH scale\n",
    "\n",
    "10 - sulphates: a wine additive which can contribute to sulfur dioxide gas (S02) levels, wich acts as an antimicrobial and antioxidant\n",
    "\n",
    "11 - alcohol: the percent alcohol content of the wine\n",
    "\n",
    "Output variable (based on sensory data):\n",
    "12 - quality (score between 0 and 10)"
   ]
  },
  {
   "cell_type": "markdown",
   "id": "6c36345c",
   "metadata": {},
   "source": [
    "# Red wines: STEP 1: Learning the dataset and feature engineering"
   ]
  },
  {
   "cell_type": "code",
   "execution_count": 1,
   "id": "92cd1e45",
   "metadata": {},
   "outputs": [],
   "source": [
    "# importing libraries\n",
    "from scipy import stats # for statistical calculations\n",
    "import numpy as np\n",
    "import pandas as pd\n",
    "from pandas import read_csv # for dataframes\n",
    "from pandas import DataFrame # for dataframes\n",
    "from numpy import ravel # for matrices\n",
    "import matplotlib.pyplot as plt #for plotting data\n",
    "import seaborn as sns # for plotting data\n",
    "from sklearn.model_selection import train_test_split # for train/test splits\n",
    "from sklearn.model_selection import cross_val_score # for cross validation\n",
    "from sklearn.ensemble import RandomForestClassifier # The random forest classifier\n",
    "from sklearn.feature_selection import VarianceThreshold # feature selector\n",
    "from sklearn.pipeline import Pipeline # for setting up pipeline\n",
    "from sklearn.metrics import confusion_matrix, accuracy_score # for confusion matrix\n",
    "# Various pre-processing steps\n",
    "from sklearn.preprocessing import Normalizer, StandardScaler, MinMaxScaler, PowerTransformer, MaxAbsScaler, LabelEncoder\n",
    "from sklearn.model_selection import GridSearchCV # For optimization"
   ]
  },
  {
   "cell_type": "code",
   "execution_count": 2,
   "id": "d893ff2e",
   "metadata": {},
   "outputs": [],
   "source": [
    "# importing the dataset\n",
    "df = pd.read_csv(\"wineQualityReds.csv\", index_col=0)"
   ]
  },
  {
   "cell_type": "markdown",
   "id": "ea8b4333",
   "metadata": {},
   "source": [
    "Learning the dataset and making feature engineering"
   ]
  },
  {
   "cell_type": "code",
   "execution_count": 3,
   "id": "46b04468",
   "metadata": {},
   "outputs": [
    {
     "data": {
      "text/html": [
       "<div>\n",
       "<style scoped>\n",
       "    .dataframe tbody tr th:only-of-type {\n",
       "        vertical-align: middle;\n",
       "    }\n",
       "\n",
       "    .dataframe tbody tr th {\n",
       "        vertical-align: top;\n",
       "    }\n",
       "\n",
       "    .dataframe thead th {\n",
       "        text-align: right;\n",
       "    }\n",
       "</style>\n",
       "<table border=\"1\" class=\"dataframe\">\n",
       "  <thead>\n",
       "    <tr style=\"text-align: right;\">\n",
       "      <th></th>\n",
       "      <th>fixed.acidity</th>\n",
       "      <th>volatile.acidity</th>\n",
       "      <th>citric.acid</th>\n",
       "      <th>residual.sugar</th>\n",
       "      <th>chlorides</th>\n",
       "      <th>free.sulfur.dioxide</th>\n",
       "      <th>total.sulfur.dioxide</th>\n",
       "      <th>density</th>\n",
       "      <th>pH</th>\n",
       "      <th>sulphates</th>\n",
       "      <th>alcohol</th>\n",
       "      <th>quality</th>\n",
       "    </tr>\n",
       "  </thead>\n",
       "  <tbody>\n",
       "    <tr>\n",
       "      <th>1</th>\n",
       "      <td>7.4</td>\n",
       "      <td>0.70</td>\n",
       "      <td>0.00</td>\n",
       "      <td>1.9</td>\n",
       "      <td>0.076</td>\n",
       "      <td>11.0</td>\n",
       "      <td>34.0</td>\n",
       "      <td>0.9978</td>\n",
       "      <td>3.51</td>\n",
       "      <td>0.56</td>\n",
       "      <td>9.4</td>\n",
       "      <td>5</td>\n",
       "    </tr>\n",
       "    <tr>\n",
       "      <th>2</th>\n",
       "      <td>7.8</td>\n",
       "      <td>0.88</td>\n",
       "      <td>0.00</td>\n",
       "      <td>2.6</td>\n",
       "      <td>0.098</td>\n",
       "      <td>25.0</td>\n",
       "      <td>67.0</td>\n",
       "      <td>0.9968</td>\n",
       "      <td>3.20</td>\n",
       "      <td>0.68</td>\n",
       "      <td>9.8</td>\n",
       "      <td>5</td>\n",
       "    </tr>\n",
       "    <tr>\n",
       "      <th>3</th>\n",
       "      <td>7.8</td>\n",
       "      <td>0.76</td>\n",
       "      <td>0.04</td>\n",
       "      <td>2.3</td>\n",
       "      <td>0.092</td>\n",
       "      <td>15.0</td>\n",
       "      <td>54.0</td>\n",
       "      <td>0.9970</td>\n",
       "      <td>3.26</td>\n",
       "      <td>0.65</td>\n",
       "      <td>9.8</td>\n",
       "      <td>5</td>\n",
       "    </tr>\n",
       "    <tr>\n",
       "      <th>4</th>\n",
       "      <td>11.2</td>\n",
       "      <td>0.28</td>\n",
       "      <td>0.56</td>\n",
       "      <td>1.9</td>\n",
       "      <td>0.075</td>\n",
       "      <td>17.0</td>\n",
       "      <td>60.0</td>\n",
       "      <td>0.9980</td>\n",
       "      <td>3.16</td>\n",
       "      <td>0.58</td>\n",
       "      <td>9.8</td>\n",
       "      <td>6</td>\n",
       "    </tr>\n",
       "    <tr>\n",
       "      <th>5</th>\n",
       "      <td>7.4</td>\n",
       "      <td>0.70</td>\n",
       "      <td>0.00</td>\n",
       "      <td>1.9</td>\n",
       "      <td>0.076</td>\n",
       "      <td>11.0</td>\n",
       "      <td>34.0</td>\n",
       "      <td>0.9978</td>\n",
       "      <td>3.51</td>\n",
       "      <td>0.56</td>\n",
       "      <td>9.4</td>\n",
       "      <td>5</td>\n",
       "    </tr>\n",
       "  </tbody>\n",
       "</table>\n",
       "</div>"
      ],
      "text/plain": [
       "   fixed.acidity  volatile.acidity  citric.acid  residual.sugar  chlorides  \\\n",
       "1            7.4              0.70         0.00             1.9      0.076   \n",
       "2            7.8              0.88         0.00             2.6      0.098   \n",
       "3            7.8              0.76         0.04             2.3      0.092   \n",
       "4           11.2              0.28         0.56             1.9      0.075   \n",
       "5            7.4              0.70         0.00             1.9      0.076   \n",
       "\n",
       "   free.sulfur.dioxide  total.sulfur.dioxide  density    pH  sulphates  \\\n",
       "1                 11.0                  34.0   0.9978  3.51       0.56   \n",
       "2                 25.0                  67.0   0.9968  3.20       0.68   \n",
       "3                 15.0                  54.0   0.9970  3.26       0.65   \n",
       "4                 17.0                  60.0   0.9980  3.16       0.58   \n",
       "5                 11.0                  34.0   0.9978  3.51       0.56   \n",
       "\n",
       "   alcohol  quality  \n",
       "1      9.4        5  \n",
       "2      9.8        5  \n",
       "3      9.8        5  \n",
       "4      9.8        6  \n",
       "5      9.4        5  "
      ]
     },
     "execution_count": 3,
     "metadata": {},
     "output_type": "execute_result"
    }
   ],
   "source": [
    "# showing first five rows of the dateset\n",
    "df.head()"
   ]
  },
  {
   "cell_type": "code",
   "execution_count": 4,
   "id": "9570e756",
   "metadata": {},
   "outputs": [
    {
     "data": {
      "text/plain": [
       "['fixed.acidity',\n",
       " 'volatile.acidity',\n",
       " 'citric.acid',\n",
       " 'residual.sugar',\n",
       " 'chlorides',\n",
       " 'free.sulfur.dioxide',\n",
       " 'total.sulfur.dioxide',\n",
       " 'density',\n",
       " 'pH',\n",
       " 'sulphates',\n",
       " 'alcohol',\n",
       " 'quality']"
      ]
     },
     "execution_count": 4,
     "metadata": {},
     "output_type": "execute_result"
    }
   ],
   "source": [
    "# showing the column names\n",
    "list(df.columns)"
   ]
  },
  {
   "cell_type": "code",
   "execution_count": 5,
   "id": "27bad914",
   "metadata": {},
   "outputs": [
    {
     "name": "stdout",
     "output_type": "stream",
     "text": [
      "<class 'pandas.core.frame.DataFrame'>\n",
      "Int64Index: 1599 entries, 1 to 1599\n",
      "Data columns (total 12 columns):\n",
      " #   Column                Non-Null Count  Dtype  \n",
      "---  ------                --------------  -----  \n",
      " 0   fixed.acidity         1599 non-null   float64\n",
      " 1   volatile.acidity      1599 non-null   float64\n",
      " 2   citric.acid           1599 non-null   float64\n",
      " 3   residual.sugar        1599 non-null   float64\n",
      " 4   chlorides             1599 non-null   float64\n",
      " 5   free.sulfur.dioxide   1599 non-null   float64\n",
      " 6   total.sulfur.dioxide  1599 non-null   float64\n",
      " 7   density               1599 non-null   float64\n",
      " 8   pH                    1599 non-null   float64\n",
      " 9   sulphates             1599 non-null   float64\n",
      " 10  alcohol               1599 non-null   float64\n",
      " 11  quality               1599 non-null   int64  \n",
      "dtypes: float64(11), int64(1)\n",
      "memory usage: 162.4 KB\n"
     ]
    }
   ],
   "source": [
    "# showing statistical information about the dataset\n",
    "df.info()"
   ]
  },
  {
   "cell_type": "code",
   "execution_count": 6,
   "id": "4b6963cc",
   "metadata": {},
   "outputs": [
    {
     "data": {
      "text/html": [
       "<div>\n",
       "<style scoped>\n",
       "    .dataframe tbody tr th:only-of-type {\n",
       "        vertical-align: middle;\n",
       "    }\n",
       "\n",
       "    .dataframe tbody tr th {\n",
       "        vertical-align: top;\n",
       "    }\n",
       "\n",
       "    .dataframe thead th {\n",
       "        text-align: right;\n",
       "    }\n",
       "</style>\n",
       "<table border=\"1\" class=\"dataframe\">\n",
       "  <thead>\n",
       "    <tr style=\"text-align: right;\">\n",
       "      <th></th>\n",
       "      <th>fixed.acidity</th>\n",
       "      <th>volatile.acidity</th>\n",
       "      <th>citric.acid</th>\n",
       "      <th>residual.sugar</th>\n",
       "      <th>chlorides</th>\n",
       "      <th>free.sulfur.dioxide</th>\n",
       "      <th>total.sulfur.dioxide</th>\n",
       "      <th>density</th>\n",
       "      <th>pH</th>\n",
       "      <th>sulphates</th>\n",
       "      <th>alcohol</th>\n",
       "      <th>quality</th>\n",
       "    </tr>\n",
       "  </thead>\n",
       "  <tbody>\n",
       "    <tr>\n",
       "      <th>count</th>\n",
       "      <td>1599.000000</td>\n",
       "      <td>1599.000000</td>\n",
       "      <td>1599.000000</td>\n",
       "      <td>1599.000000</td>\n",
       "      <td>1599.000000</td>\n",
       "      <td>1599.000000</td>\n",
       "      <td>1599.000000</td>\n",
       "      <td>1599.000000</td>\n",
       "      <td>1599.000000</td>\n",
       "      <td>1599.000000</td>\n",
       "      <td>1599.000000</td>\n",
       "      <td>1599.000000</td>\n",
       "    </tr>\n",
       "    <tr>\n",
       "      <th>mean</th>\n",
       "      <td>8.319637</td>\n",
       "      <td>0.527821</td>\n",
       "      <td>0.270976</td>\n",
       "      <td>2.538806</td>\n",
       "      <td>0.087467</td>\n",
       "      <td>15.874922</td>\n",
       "      <td>46.467792</td>\n",
       "      <td>0.996747</td>\n",
       "      <td>3.311113</td>\n",
       "      <td>0.658149</td>\n",
       "      <td>10.422983</td>\n",
       "      <td>5.636023</td>\n",
       "    </tr>\n",
       "    <tr>\n",
       "      <th>std</th>\n",
       "      <td>1.741096</td>\n",
       "      <td>0.179060</td>\n",
       "      <td>0.194801</td>\n",
       "      <td>1.409928</td>\n",
       "      <td>0.047065</td>\n",
       "      <td>10.460157</td>\n",
       "      <td>32.895324</td>\n",
       "      <td>0.001887</td>\n",
       "      <td>0.154386</td>\n",
       "      <td>0.169507</td>\n",
       "      <td>1.065668</td>\n",
       "      <td>0.807569</td>\n",
       "    </tr>\n",
       "    <tr>\n",
       "      <th>min</th>\n",
       "      <td>4.600000</td>\n",
       "      <td>0.120000</td>\n",
       "      <td>0.000000</td>\n",
       "      <td>0.900000</td>\n",
       "      <td>0.012000</td>\n",
       "      <td>1.000000</td>\n",
       "      <td>6.000000</td>\n",
       "      <td>0.990070</td>\n",
       "      <td>2.740000</td>\n",
       "      <td>0.330000</td>\n",
       "      <td>8.400000</td>\n",
       "      <td>3.000000</td>\n",
       "    </tr>\n",
       "    <tr>\n",
       "      <th>25%</th>\n",
       "      <td>7.100000</td>\n",
       "      <td>0.390000</td>\n",
       "      <td>0.090000</td>\n",
       "      <td>1.900000</td>\n",
       "      <td>0.070000</td>\n",
       "      <td>7.000000</td>\n",
       "      <td>22.000000</td>\n",
       "      <td>0.995600</td>\n",
       "      <td>3.210000</td>\n",
       "      <td>0.550000</td>\n",
       "      <td>9.500000</td>\n",
       "      <td>5.000000</td>\n",
       "    </tr>\n",
       "    <tr>\n",
       "      <th>50%</th>\n",
       "      <td>7.900000</td>\n",
       "      <td>0.520000</td>\n",
       "      <td>0.260000</td>\n",
       "      <td>2.200000</td>\n",
       "      <td>0.079000</td>\n",
       "      <td>14.000000</td>\n",
       "      <td>38.000000</td>\n",
       "      <td>0.996750</td>\n",
       "      <td>3.310000</td>\n",
       "      <td>0.620000</td>\n",
       "      <td>10.200000</td>\n",
       "      <td>6.000000</td>\n",
       "    </tr>\n",
       "    <tr>\n",
       "      <th>75%</th>\n",
       "      <td>9.200000</td>\n",
       "      <td>0.640000</td>\n",
       "      <td>0.420000</td>\n",
       "      <td>2.600000</td>\n",
       "      <td>0.090000</td>\n",
       "      <td>21.000000</td>\n",
       "      <td>62.000000</td>\n",
       "      <td>0.997835</td>\n",
       "      <td>3.400000</td>\n",
       "      <td>0.730000</td>\n",
       "      <td>11.100000</td>\n",
       "      <td>6.000000</td>\n",
       "    </tr>\n",
       "    <tr>\n",
       "      <th>max</th>\n",
       "      <td>15.900000</td>\n",
       "      <td>1.580000</td>\n",
       "      <td>1.000000</td>\n",
       "      <td>15.500000</td>\n",
       "      <td>0.611000</td>\n",
       "      <td>72.000000</td>\n",
       "      <td>289.000000</td>\n",
       "      <td>1.003690</td>\n",
       "      <td>4.010000</td>\n",
       "      <td>2.000000</td>\n",
       "      <td>14.900000</td>\n",
       "      <td>8.000000</td>\n",
       "    </tr>\n",
       "  </tbody>\n",
       "</table>\n",
       "</div>"
      ],
      "text/plain": [
       "       fixed.acidity  volatile.acidity  citric.acid  residual.sugar  \\\n",
       "count    1599.000000       1599.000000  1599.000000     1599.000000   \n",
       "mean        8.319637          0.527821     0.270976        2.538806   \n",
       "std         1.741096          0.179060     0.194801        1.409928   \n",
       "min         4.600000          0.120000     0.000000        0.900000   \n",
       "25%         7.100000          0.390000     0.090000        1.900000   \n",
       "50%         7.900000          0.520000     0.260000        2.200000   \n",
       "75%         9.200000          0.640000     0.420000        2.600000   \n",
       "max        15.900000          1.580000     1.000000       15.500000   \n",
       "\n",
       "         chlorides  free.sulfur.dioxide  total.sulfur.dioxide      density  \\\n",
       "count  1599.000000          1599.000000           1599.000000  1599.000000   \n",
       "mean      0.087467            15.874922             46.467792     0.996747   \n",
       "std       0.047065            10.460157             32.895324     0.001887   \n",
       "min       0.012000             1.000000              6.000000     0.990070   \n",
       "25%       0.070000             7.000000             22.000000     0.995600   \n",
       "50%       0.079000            14.000000             38.000000     0.996750   \n",
       "75%       0.090000            21.000000             62.000000     0.997835   \n",
       "max       0.611000            72.000000            289.000000     1.003690   \n",
       "\n",
       "                pH    sulphates      alcohol      quality  \n",
       "count  1599.000000  1599.000000  1599.000000  1599.000000  \n",
       "mean      3.311113     0.658149    10.422983     5.636023  \n",
       "std       0.154386     0.169507     1.065668     0.807569  \n",
       "min       2.740000     0.330000     8.400000     3.000000  \n",
       "25%       3.210000     0.550000     9.500000     5.000000  \n",
       "50%       3.310000     0.620000    10.200000     6.000000  \n",
       "75%       3.400000     0.730000    11.100000     6.000000  \n",
       "max       4.010000     2.000000    14.900000     8.000000  "
      ]
     },
     "execution_count": 6,
     "metadata": {},
     "output_type": "execute_result"
    }
   ],
   "source": [
    "# showing statistical data of the dataset\n",
    "df.describe()"
   ]
  },
  {
   "cell_type": "markdown",
   "id": "66091798",
   "metadata": {},
   "source": [
    "Visualize data columns\n",
    "\n",
    "Explore distribution, skewness, outliers and other statistical properties"
   ]
  },
  {
   "cell_type": "code",
   "execution_count": 7,
   "id": "279106dc",
   "metadata": {},
   "outputs": [
    {
     "data": {
      "image/png": "[encoded data removed]",
      "text/plain": [
       "<Figure size 432x288 with 1 Axes>"
      ]
     },
     "metadata": {
      "needs_background": "light"
     },
     "output_type": "display_data"
    }
   ],
   "source": [
    "# plotting fixed.acidity variable\n",
    "ax = sns.boxplot(x=df[\"fixed.acidity\"]);"
   ]
  },
  {
   "cell_type": "code",
   "execution_count": 8,
   "id": "7e7d0e38",
   "metadata": {},
   "outputs": [
    {
     "name": "stdout",
     "output_type": "stream",
     "text": [
      "skewnessis 0.98, kurtosis is 1.13\n"
     ]
    }
   ],
   "source": [
    "# printing skewness and kurtosis\n",
    "skewness = df[\"fixed.acidity\"].skew()\n",
    "kurtosis = df[\"fixed.acidity\"].kurtosis()\n",
    "print(\"skewnessis {:.2f}, kurtosis is {:.2f}\".format(skewness, kurtosis))"
   ]
  },
  {
   "cell_type": "code",
   "execution_count": 9,
   "id": "06db817d",
   "metadata": {},
   "outputs": [
    {
     "data": {
      "image/png": "[encoded data removed]",
      "text/plain": [
       "<Figure size 432x288 with 1 Axes>"
      ]
     },
     "metadata": {
      "needs_background": "light"
     },
     "output_type": "display_data"
    }
   ],
   "source": [
    "# plotting volatile.acidity variable\n",
    "ax = sns.boxplot(x=df[\"volatile.acidity\"]);"
   ]
  },
  {
   "cell_type": "code",
   "execution_count": 10,
   "id": "be15a7e6",
   "metadata": {},
   "outputs": [
    {
     "name": "stdout",
     "output_type": "stream",
     "text": [
      "skewnessis 0.67, kurtosis is 1.23\n"
     ]
    }
   ],
   "source": [
    "# printing skewness and kurtosis\n",
    "skewness = df[\"volatile.acidity\"].skew()\n",
    "kurtosis = df[\"volatile.acidity\"].kurtosis()\n",
    "print(\"skewnessis {:.2f}, kurtosis is {:.2f}\".format(skewness, kurtosis))"
   ]
  },
  {
   "cell_type": "code",
   "execution_count": 11,
   "id": "93350101",
   "metadata": {},
   "outputs": [
    {
     "data": {
      "image/png": "[encoded data removed]",
      "text/plain": [
       "<Figure size 432x288 with 1 Axes>"
      ]
     },
     "metadata": {
      "needs_background": "light"
     },
     "output_type": "display_data"
    }
   ],
   "source": [
    "# plotting citric.acid variable\n",
    "ax = sns.boxplot(x=df[\"citric.acid\"]);"
   ]
  },
  {
   "cell_type": "code",
   "execution_count": 12,
   "id": "3fa1bea4",
   "metadata": {},
   "outputs": [
    {
     "name": "stdout",
     "output_type": "stream",
     "text": [
      "skewnessis 0.32, kurtosis is -0.79\n"
     ]
    }
   ],
   "source": [
    "# printing skewness and kurtosis\n",
    "skewness = df[\"citric.acid\"].skew()\n",
    "kurtosis = df[\"citric.acid\"].kurtosis()\n",
    "print(\"skewnessis {:.2f}, kurtosis is {:.2f}\".format(skewness, kurtosis))"
   ]
  },
  {
   "cell_type": "code",
   "execution_count": 13,
   "id": "ae4e6c6c",
   "metadata": {},
   "outputs": [
    {
     "data": {
      "image/png": "[encoded data removed]",
      "text/plain": [
       "<Figure size 432x288 with 1 Axes>"
      ]
     },
     "metadata": {
      "needs_background": "light"
     },
     "output_type": "display_data"
    }
   ],
   "source": [
    "# plotting residual.sugar variable\n",
    "ax = sns.boxplot(x=df[\"residual.sugar\"]);"
   ]
  },
  {
   "cell_type": "code",
   "execution_count": 14,
   "id": "5f11de4e",
   "metadata": {},
   "outputs": [
    {
     "name": "stdout",
     "output_type": "stream",
     "text": [
      "skewnessis 4.54, kurtosis is 28.62\n"
     ]
    }
   ],
   "source": [
    "# printing skewness and kurtosis\n",
    "skewness = df[\"residual.sugar\"].skew()\n",
    "kurtosis = df[\"residual.sugar\"].kurtosis()\n",
    "print(\"skewnessis {:.2f}, kurtosis is {:.2f}\".format(skewness, kurtosis))"
   ]
  },
  {
   "cell_type": "code",
   "execution_count": 15,
   "id": "3ed7b368",
   "metadata": {},
   "outputs": [
    {
     "data": {
      "text/plain": [
       "1.8068638195807207"
      ]
     },
     "execution_count": 15,
     "metadata": {},
     "output_type": "execute_result"
    }
   ],
   "source": [
    "# residual.sugar distribution is highly skewed\n",
    "# trying log transformation to improve the skewness\n",
    "log_residual_sugar_skewness = np.log(df[\"residual.sugar\"]).skew()\n",
    "log_residual_sugar_skewness"
   ]
  },
  {
   "cell_type": "code",
   "execution_count": 16,
   "id": "d336dfdf",
   "metadata": {},
   "outputs": [],
   "source": [
    "# creating log(residual.sugar) column\n",
    "df[\"log(residual.sugar)\"] = np.log(df['residual.sugar'])"
   ]
  },
  {
   "cell_type": "code",
   "execution_count": 17,
   "id": "f1c68227",
   "metadata": {},
   "outputs": [],
   "source": [
    "# removing residual.sugar column\n",
    "df.drop([\"residual.sugar\"], axis=1, inplace=True)"
   ]
  },
  {
   "cell_type": "code",
   "execution_count": 18,
   "id": "79125106",
   "metadata": {},
   "outputs": [
    {
     "data": {
      "image/png": "[encoded data removed]",
      "text/plain": [
       "<Figure size 432x288 with 1 Axes>"
      ]
     },
     "metadata": {
      "needs_background": "light"
     },
     "output_type": "display_data"
    }
   ],
   "source": [
    "# plotting chlorides variable\n",
    "ax = sns.boxplot(x=df[\"chlorides\"]);"
   ]
  },
  {
   "cell_type": "code",
   "execution_count": 19,
   "id": "5e5795fb",
   "metadata": {},
   "outputs": [
    {
     "name": "stdout",
     "output_type": "stream",
     "text": [
      "skewnessis 5.68, kurtosis is 41.72\n"
     ]
    }
   ],
   "source": [
    "# printing skewness and kurtosis\n",
    "skewness = df[\"chlorides\"].skew()\n",
    "kurtosis = df[\"chlorides\"].kurtosis()\n",
    "print(\"skewnessis {:.2f}, kurtosis is {:.2f}\".format(skewness, kurtosis))"
   ]
  },
  {
   "cell_type": "code",
   "execution_count": 20,
   "id": "106c1af7",
   "metadata": {},
   "outputs": [
    {
     "data": {
      "text/plain": [
       "1.745215442685683"
      ]
     },
     "execution_count": 20,
     "metadata": {},
     "output_type": "execute_result"
    }
   ],
   "source": [
    "# chlorides distribution is highly skewed\n",
    "# trying log transformation to improve the skewness\n",
    "log_chlorides_skewness = np.log(df[\"chlorides\"]).skew()\n",
    "log_chlorides_skewness"
   ]
  },
  {
   "cell_type": "code",
   "execution_count": 21,
   "id": "1a2842e5",
   "metadata": {},
   "outputs": [],
   "source": [
    "# creating log(chlorides) column\n",
    "df[\"log(chlorides)\"] = np.sqrt(df['chlorides'])"
   ]
  },
  {
   "cell_type": "code",
   "execution_count": 22,
   "id": "777621ec",
   "metadata": {},
   "outputs": [],
   "source": [
    "# removing chlorides column\n",
    "df.drop([\"chlorides\"], axis=1, inplace=True)"
   ]
  },
  {
   "cell_type": "code",
   "execution_count": 23,
   "id": "cb17990c",
   "metadata": {},
   "outputs": [
    {
     "data": {
      "image/png": "[encoded data removed]",
      "text/plain": [
       "<Figure size 432x288 with 1 Axes>"
      ]
     },
     "metadata": {
      "needs_background": "light"
     },
     "output_type": "display_data"
    }
   ],
   "source": [
    "# plotting free.sulfur.dioxide variable\n",
    "ax = sns.boxplot(x=df[\"free.sulfur.dioxide\"]);"
   ]
  },
  {
   "cell_type": "code",
   "execution_count": 24,
   "id": "d4f2dd1d",
   "metadata": {},
   "outputs": [
    {
     "name": "stdout",
     "output_type": "stream",
     "text": [
      "skewnessis 1.25, kurtosis is 2.02\n"
     ]
    }
   ],
   "source": [
    "# printing skewness and kurtosis\n",
    "skewness = df[\"free.sulfur.dioxide\"].skew()\n",
    "kurtosis = df[\"free.sulfur.dioxide\"].kurtosis()\n",
    "print(\"skewnessis {:.2f}, kurtosis is {:.2f}\".format(skewness, kurtosis))"
   ]
  },
  {
   "cell_type": "code",
   "execution_count": 25,
   "id": "6216a381",
   "metadata": {},
   "outputs": [
    {
     "data": {
      "image/png": "[encoded data removed]",
      "text/plain": [
       "<Figure size 432x288 with 1 Axes>"
      ]
     },
     "metadata": {
      "needs_background": "light"
     },
     "output_type": "display_data"
    }
   ],
   "source": [
    "# plotting total.sulfur.dioxide variable\n",
    "ax = sns.boxplot(x=df[\"total.sulfur.dioxide\"]);"
   ]
  },
  {
   "cell_type": "code",
   "execution_count": 26,
   "id": "da64720c",
   "metadata": {},
   "outputs": [
    {
     "name": "stdout",
     "output_type": "stream",
     "text": [
      "skewnessis 1.52, kurtosis is 3.81\n"
     ]
    }
   ],
   "source": [
    "# printing skewness and kurtosis\n",
    "skewness = df[\"total.sulfur.dioxide\"].skew()\n",
    "kurtosis = df[\"total.sulfur.dioxide\"].kurtosis()\n",
    "print(\"skewnessis {:.2f}, kurtosis is {:.2f}\".format(skewness, kurtosis))"
   ]
  },
  {
   "cell_type": "code",
   "execution_count": 27,
   "id": "98f08c20",
   "metadata": {},
   "outputs": [
    {
     "data": {
      "image/png": "[encoded data removed]",
      "text/plain": [
       "<Figure size 432x288 with 1 Axes>"
      ]
     },
     "metadata": {
      "needs_background": "light"
     },
     "output_type": "display_data"
    }
   ],
   "source": [
    "# plotting density variable\n",
    "ax = sns.boxplot(x=df[\"density\"]);"
   ]
  },
  {
   "cell_type": "code",
   "execution_count": 28,
   "id": "0063055e",
   "metadata": {},
   "outputs": [
    {
     "name": "stdout",
     "output_type": "stream",
     "text": [
      "skewnessis 0.07, kurtosis is 0.93\n"
     ]
    }
   ],
   "source": [
    "# printing skewness and kurtosis\n",
    "skewness = df[\"density\"].skew()\n",
    "kurtosis = df[\"density\"].kurtosis()\n",
    "print(\"skewnessis {:.2f}, kurtosis is {:.2f}\".format(skewness, kurtosis))"
   ]
  },
  {
   "cell_type": "code",
   "execution_count": 29,
   "id": "435676a7",
   "metadata": {},
   "outputs": [
    {
     "data": {
      "image/png": "[encoded data removed]",
      "text/plain": [
       "<Figure size 432x288 with 1 Axes>"
      ]
     },
     "metadata": {
      "needs_background": "light"
     },
     "output_type": "display_data"
    }
   ],
   "source": [
    "# plotting pH variable\n",
    "ax = sns.boxplot(x=df[\"pH\"]);"
   ]
  },
  {
   "cell_type": "code",
   "execution_count": 30,
   "id": "e4e01894",
   "metadata": {},
   "outputs": [
    {
     "name": "stdout",
     "output_type": "stream",
     "text": [
      "skewnessis 0.19, kurtosis is 0.81\n"
     ]
    }
   ],
   "source": [
    "# printing skewness and kurtosis\n",
    "skewness = df[\"pH\"].skew()\n",
    "kurtosis = df[\"pH\"].kurtosis()\n",
    "print(\"skewnessis {:.2f}, kurtosis is {:.2f}\".format(skewness, kurtosis))"
   ]
  },
  {
   "cell_type": "code",
   "execution_count": 31,
   "id": "4ec769c8",
   "metadata": {},
   "outputs": [
    {
     "data": {
      "image/png": "[encoded data removed]",
      "text/plain": [
       "<Figure size 432x288 with 1 Axes>"
      ]
     },
     "metadata": {
      "needs_background": "light"
     },
     "output_type": "display_data"
    }
   ],
   "source": [
    "# plotting sulphates variable\n",
    "ax = sns.boxplot(x=df[\"sulphates\"]);"
   ]
  },
  {
   "cell_type": "code",
   "execution_count": 32,
   "id": "13e2d9ab",
   "metadata": {},
   "outputs": [
    {
     "name": "stdout",
     "output_type": "stream",
     "text": [
      "skewnessis 2.43, kurtosis is 11.72\n"
     ]
    }
   ],
   "source": [
    "# printing skewness and kurtosis\n",
    "skewness = df[\"sulphates\"].skew()\n",
    "kurtosis = df[\"sulphates\"].kurtosis()\n",
    "print(\"skewnessis {:.2f}, kurtosis is {:.2f}\".format(skewness, kurtosis))"
   ]
  },
  {
   "cell_type": "code",
   "execution_count": 33,
   "id": "dc2c7714",
   "metadata": {},
   "outputs": [
    {
     "data": {
      "image/png": "[encoded data removed]",
      "text/plain": [
       "<Figure size 432x288 with 1 Axes>"
      ]
     },
     "metadata": {
      "needs_background": "light"
     },
     "output_type": "display_data"
    }
   ],
   "source": [
    "# plotting alcohol variable\n",
    "ax = sns.boxplot(x=df[\"alcohol\"]);"
   ]
  },
  {
   "cell_type": "code",
   "execution_count": 34,
   "id": "af23033d",
   "metadata": {},
   "outputs": [
    {
     "name": "stdout",
     "output_type": "stream",
     "text": [
      "skewnessis 0.86, kurtosis is 0.20\n"
     ]
    }
   ],
   "source": [
    "# printing skewness and kurtosis\n",
    "skewness = df[\"alcohol\"].skew()\n",
    "kurtosis = df[\"alcohol\"].kurtosis()\n",
    "print(\"skewnessis {:.2f}, kurtosis is {:.2f}\".format(skewness, kurtosis))"
   ]
  },
  {
   "cell_type": "code",
   "execution_count": 35,
   "id": "9de3f554",
   "metadata": {
    "scrolled": true
   },
   "outputs": [
    {
     "name": "stderr",
     "output_type": "stream",
     "text": [
      "C:\\Users\\artem\\anaconda3\\lib\\site-packages\\seaborn\\_decorators.py:36: FutureWarning: Pass the following variable as a keyword arg: x. From version 0.12, the only valid positional argument will be `data`, and passing other arguments without an explicit keyword will result in an error or misinterpretation.\n",
      "  warnings.warn(\n"
     ]
    },
    {
     "data": {
      "image/png": "[encoded data removed]",
      "text/plain": [
       "<Figure size 540x360 with 1 Axes>"
      ]
     },
     "metadata": {
      "needs_background": "light"
     },
     "output_type": "display_data"
    }
   ],
   "source": [
    "# plotting quality variable\n",
    "ax = sns.catplot(\"quality\", data=df, kind='count', aspect=1.5);"
   ]
  },
  {
   "cell_type": "code",
   "execution_count": 36,
   "id": "cc71d28e",
   "metadata": {},
   "outputs": [
    {
     "data": {
      "text/plain": [
       "5    681\n",
       "6    638\n",
       "7    199\n",
       "4     53\n",
       "8     18\n",
       "3     10\n",
       "Name: quality, dtype: int64"
      ]
     },
     "execution_count": 36,
     "metadata": {},
     "output_type": "execute_result"
    }
   ],
   "source": [
    "# counting all the values of categorical dependent variable quality\n",
    "df[\"quality\"].value_counts(dropna=False)"
   ]
  },
  {
   "cell_type": "code",
   "execution_count": 37,
   "id": "4e40f13f",
   "metadata": {},
   "outputs": [
    {
     "data": {
      "text/plain": [
       "['fixed.acidity',\n",
       " 'volatile.acidity',\n",
       " 'citric.acid',\n",
       " 'free.sulfur.dioxide',\n",
       " 'total.sulfur.dioxide',\n",
       " 'density',\n",
       " 'pH',\n",
       " 'sulphates',\n",
       " 'alcohol',\n",
       " 'quality',\n",
       " 'log(residual.sugar)',\n",
       " 'log(chlorides)']"
      ]
     },
     "execution_count": 37,
     "metadata": {},
     "output_type": "execute_result"
    }
   ],
   "source": [
    "# showing the column names\n",
    "list(df.columns)"
   ]
  },
  {
   "cell_type": "code",
   "execution_count": 38,
   "id": "4b83804d",
   "metadata": {},
   "outputs": [],
   "source": [
    "# reordering the dataframe columns in original order\n",
    "df = df[['fixed.acidity',\n",
    " 'volatile.acidity',\n",
    " 'citric.acid',\n",
    " 'log(residual.sugar)',\n",
    " 'log(chlorides)',\n",
    " 'free.sulfur.dioxide',\n",
    " 'total.sulfur.dioxide',\n",
    " 'density',\n",
    " 'pH',\n",
    " 'sulphates',\n",
    " 'alcohol',\n",
    " 'quality']]"
   ]
  },
  {
   "cell_type": "code",
   "execution_count": 39,
   "id": "906e45fc",
   "metadata": {},
   "outputs": [],
   "source": [
    "# calculating a correlation matrix\n",
    "corr_matrix = df.corr()"
   ]
  },
  {
   "cell_type": "code",
   "execution_count": 40,
   "id": "3853d117",
   "metadata": {},
   "outputs": [
    {
     "data": {
      "image/png": "[encoded data removed]",
      "text/plain": [
       "<Figure size 1440x1440 with 2 Axes>"
      ]
     },
     "metadata": {
      "needs_background": "light"
     },
     "output_type": "display_data"
    }
   ],
   "source": [
    "# drawing a heatmap\n",
    "plt.figure(figsize = (20,20))\n",
    "ax = sns.heatmap(corr_matrix, annot=True, square=True, cmap='Blues')\n",
    "plt.show()"
   ]
  },
  {
   "cell_type": "markdown",
   "id": "7374d7cc",
   "metadata": {},
   "source": [
    "Discussion: density is correlated with residual.sugar and alcohol."
   ]
  },
  {
   "cell_type": "markdown",
   "id": "a9d878ea",
   "metadata": {},
   "source": [
    "Discussion: variables log(residual.sugar) and pH have futile influence on the quality"
   ]
  },
  {
   "cell_type": "markdown",
   "id": "e7f23fb1",
   "metadata": {},
   "source": [
    "# White wines: STEP 2: Random Forest Classification w/o pipeline optimization"
   ]
  },
  {
   "cell_type": "code",
   "execution_count": 41,
   "id": "2d16f73a",
   "metadata": {},
   "outputs": [],
   "source": [
    "# defining variables\n",
    "X = df.iloc[:, :-1].values\n",
    "y = df.iloc[:, -1].values"
   ]
  },
  {
   "cell_type": "code",
   "execution_count": 42,
   "id": "60f29a83",
   "metadata": {},
   "outputs": [],
   "source": [
    "# splitting the dataset to a train and a test sets\n",
    "from sklearn.model_selection import train_test_split\n",
    "X_train, X_test, y_train, y_test = train_test_split(X, y, test_size = 0.2, random_state = 42)"
   ]
  },
  {
   "cell_type": "code",
   "execution_count": 43,
   "id": "85ff22f8",
   "metadata": {},
   "outputs": [
    {
     "data": {
      "text/plain": [
       "RandomForestClassifier(criterion='entropy', random_state=42)"
      ]
     },
     "execution_count": 43,
     "metadata": {},
     "output_type": "execute_result"
    }
   ],
   "source": [
    "# training the  model on the training set\n",
    "classifier = RandomForestClassifier(n_estimators = 100, criterion = 'entropy', random_state = 42)\n",
    "classifier.fit(X_train, y_train)"
   ]
  },
  {
   "cell_type": "code",
   "execution_count": 44,
   "id": "d817d741",
   "metadata": {},
   "outputs": [],
   "source": [
    "# predicting y_test\n",
    "y_pred = classifier.predict(X_test)"
   ]
  },
  {
   "cell_type": "code",
   "execution_count": 45,
   "id": "7d69b3a8",
   "metadata": {},
   "outputs": [
    {
     "name": "stdout",
     "output_type": "stream",
     "text": [
      "[[ 0  0  1  0  0  0]\n",
      " [ 0  0  7  3  0  0]\n",
      " [ 0  0 99 31  0  0]\n",
      " [ 0  1 31 90  9  1]\n",
      " [ 0  0  0 19 22  1]\n",
      " [ 0  0  0  0  5  0]]\n",
      "Accuracy score: 0.66 %\n"
     ]
    }
   ],
   "source": [
    "# making the confusion matrix\n",
    "cm = confusion_matrix(y_test, y_pred)\n",
    "print(cm)\n",
    "print(\"Accuracy score: {:.2f} %\".format(accuracy_score(y_test, y_pred)))"
   ]
  },
  {
   "cell_type": "code",
   "execution_count": 46,
   "id": "515f9d8e",
   "metadata": {},
   "outputs": [
    {
     "name": "stdout",
     "output_type": "stream",
     "text": [
      "Accuracy score: 0.66 %\n"
     ]
    },
    {
     "data": {
      "image/png": "[encoded data removed]",
      "text/plain": [
       "<Figure size 360x288 with 1 Axes>"
      ]
     },
     "metadata": {
      "needs_background": "light"
     },
     "output_type": "display_data"
    }
   ],
   "source": [
    "# making the confusion matrix\n",
    "cm = confusion_matrix(y_test, y_pred)\n",
    "\n",
    "index=[\"3\", \"4\", \"5\", \"6\", \"7\", \"8\"]\n",
    "columns=[\"3\", \"4\", \"5\", \"6\", \"7\", \"8\"]\n",
    "\n",
    "df_cm = pd.DataFrame(data=cm, index=index, columns=columns)\n",
    "plt.figure(figsize=(5,4))\n",
    "\n",
    "ax = sns.heatmap(df_cm, annot=True, fmt=\".0f\", cmap='Blues', cbar=False)\n",
    "\n",
    "plt.xlabel('Predicted')\n",
    "plt.ylabel('Actual')\n",
    "\n",
    "\n",
    "print(\"Accuracy score: {:.2f} %\".format(accuracy_score(y_test, y_pred)))"
   ]
  },
  {
   "cell_type": "code",
   "execution_count": 47,
   "id": "8d03acac",
   "metadata": {},
   "outputs": [
    {
     "name": "stderr",
     "output_type": "stream",
     "text": [
      "C:\\Users\\artem\\anaconda3\\lib\\site-packages\\sklearn\\model_selection\\_split.py:666: UserWarning: The least populated class in y has only 9 members, which is less than n_splits=10.\n",
      "  warnings.warn((\"The least populated class in y has only %d\"\n"
     ]
    },
    {
     "name": "stdout",
     "output_type": "stream",
     "text": [
      "Accuracy: 69.83 %\n",
      "Standard Deviation: 3.94 %\n"
     ]
    }
   ],
   "source": [
    "# applying k-fold cross validation\n",
    "accuracies = cross_val_score(estimator = classifier, X = X_train, y = y_train, cv = 10)\n",
    "print(\"Accuracy: {:.2f} %\".format(accuracies.mean()*100))\n",
    "print(\"Standard Deviation: {:.2f} %\".format(accuracies.std()*100))"
   ]
  },
  {
   "cell_type": "code",
   "execution_count": 48,
   "id": "fdec957f",
   "metadata": {},
   "outputs": [
    {
     "name": "stdout",
     "output_type": "stream",
     "text": [
      "Training set score: 1.00 %\n",
      "Test set score: 0.66 %\n"
     ]
    }
   ],
   "source": [
    "# comparing accuracy of training set and test set\n",
    "print(\"Training set score: {:.2f} %\".format(classifier.score(X_train,y_train)))\n",
    "print(\"Test set score: {:.2f} %\".format(classifier.score(X_test,y_test)))"
   ]
  },
  {
   "cell_type": "markdown",
   "id": "9766a202",
   "metadata": {},
   "source": [
    "Discussion: the overfitting seems to be caused by subjectiveness of the quality criteria."
   ]
  },
  {
   "cell_type": "markdown",
   "id": "a5a2df5d",
   "metadata": {},
   "source": [
    "# White wines: STEP 3: Random Forest Classification with pipeline optimization"
   ]
  },
  {
   "cell_type": "markdown",
   "id": "b7c14158",
   "metadata": {},
   "source": [
    "Setting up a pipeline"
   ]
  },
  {
   "cell_type": "code",
   "execution_count": 49,
   "id": "05c4d0f8",
   "metadata": {},
   "outputs": [],
   "source": [
    "pipe = Pipeline([\n",
    "('scaler', StandardScaler()),\n",
    "('selector', VarianceThreshold()),\n",
    "('classifier', RandomForestClassifier())\n",
    "])"
   ]
  },
  {
   "cell_type": "code",
   "execution_count": 50,
   "id": "7cd12f50",
   "metadata": {},
   "outputs": [
    {
     "name": "stdout",
     "output_type": "stream",
     "text": [
      "Training set score: 1.00 %\n",
      "Test set score: 0.65 %\n"
     ]
    }
   ],
   "source": [
    "pipe.fit(X_train, y_train)\n",
    "\n",
    "print(\"Training set score: {:.2f} %\".format(pipe.score(X_train,y_train)))\n",
    "print(\"Test set score: {:.2f} %\".format(pipe.score(X_test,y_test)))"
   ]
  },
  {
   "cell_type": "markdown",
   "id": "76a1bbaa",
   "metadata": {},
   "source": [
    "Optimizing and tuning the pipeline"
   ]
  },
  {
   "cell_type": "code",
   "execution_count": 51,
   "id": "545a43d1",
   "metadata": {},
   "outputs": [],
   "source": [
    "parameters = {'scaler': [StandardScaler(), MinMaxScaler(), Normalizer(), MaxAbsScaler()],\n",
    "              'selector__threshold': [0, 0.001, 0.01],\n",
    "#              'classifier__bootstrap': [True, False],\n",
    "#              'classifier__max_depth': [5, 8, 15, 25, 30, None],\n",
    "#              'classifier__max_features': ['auto', 'sqrt'],\n",
    "#              'classifier__min_samples_leaf': [1, 2, 5, 10],\n",
    "#              'classifier__min_samples_split': [2, 5, 10, 15, 100],\n",
    "              'classifier__n_estimators': [100, 300, 500, 800, 1200]\n",
    "             }"
   ]
  },
  {
   "cell_type": "code",
   "execution_count": 52,
   "id": "8ed588e7",
   "metadata": {},
   "outputs": [
    {
     "name": "stdout",
     "output_type": "stream",
     "text": [
      "Training set score: 1.00 %\n",
      "Test set score: 0.66 %\n"
     ]
    }
   ],
   "source": [
    "grid = GridSearchCV(pipe, parameters, cv=2).fit(X_train, y_train)\n",
    "\n",
    "print(\"Training set score: {:.2f} %\".format(grid.score(X_train,y_train)))\n",
    "print(\"Test set score: {:.2f} %\".format(grid.score(X_test,y_test)))"
   ]
  },
  {
   "cell_type": "markdown",
   "id": "c5022afc",
   "metadata": {},
   "source": [
    "Analyzing the results"
   ]
  },
  {
   "cell_type": "code",
   "execution_count": 53,
   "id": "05f4e868",
   "metadata": {},
   "outputs": [
    {
     "name": "stdout",
     "output_type": "stream",
     "text": [
      "{'classifier__n_estimators': 500, 'scaler': MaxAbsScaler(), 'selector__threshold': 0}\n",
      "Pipeline(steps=[('scaler', MaxAbsScaler()),\n",
      "                ('selector', VarianceThreshold(threshold=0)),\n",
      "                ('classifier', RandomForestClassifier(n_estimators=500))])\n"
     ]
    }
   ],
   "source": [
    "# Access the best set of parameters\n",
    "best_params = grid.best_params_\n",
    "print(best_params)\n",
    "# Stores the optimum model in best_pipe\n",
    "best_pipe = grid.best_estimator_\n",
    "print(best_pipe)"
   ]
  },
  {
   "cell_type": "code",
   "execution_count": 54,
   "id": "2ca0ce2b",
   "metadata": {},
   "outputs": [
    {
     "name": "stdout",
     "output_type": "stream",
     "text": [
      "Index(['mean_fit_time', 'std_fit_time', 'mean_score_time', 'std_score_time',\n",
      "       'param_classifier__n_estimators', 'param_scaler',\n",
      "       'param_selector__threshold', 'params', 'split0_test_score',\n",
      "       'split1_test_score', 'mean_test_score', 'std_test_score',\n",
      "       'rank_test_score'],\n",
      "      dtype='object')\n"
     ]
    }
   ],
   "source": [
    "result_df = DataFrame.from_dict(grid.cv_results_, orient='columns')\n",
    "print(result_df.columns)"
   ]
  },
  {
   "cell_type": "markdown",
   "id": "abb268d5",
   "metadata": {},
   "source": [
    "Conclusion: partial parametric optimization gave accuracy of 66%."
   ]
  },
  {
   "cell_type": "code",
   "execution_count": null,
   "id": "82d06794",
   "metadata": {},
   "outputs": [],
   "source": []
  }
 ],
 "metadata": {
  "celltoolbar": "Raw Cell Format",
  "kernelspec": {
   "display_name": "Python 3",
   "language": "python",
   "name": "python3"
  },
  "language_info": {
   "codemirror_mode": {
    "name": "ipython",
    "version": 3
   },
   "file_extension": ".py",
   "mimetype": "text/x-python",
   "name": "python",
   "nbconvert_exporter": "python",
   "pygments_lexer": "ipython3",
   "version": "3.8.8"
  }
 },
 "nbformat": 4,
 "nbformat_minor": 5
}
